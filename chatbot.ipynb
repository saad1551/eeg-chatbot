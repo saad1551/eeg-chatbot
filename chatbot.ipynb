{
 "cells": [
  {
   "cell_type": "code",
   "execution_count": 117,
   "metadata": {},
   "outputs": [],
   "source": [
    "import os\n",
    "from langchain_community.utilities import SQLDatabase\n",
    "from sqlalchemy import create_engine\n",
    "from langchain_google_genai import ChatGoogleGenerativeAI\n",
    "from langchain_community.agent_toolkits.sql.base import create_sql_agent\n",
    "from langchain_ai21 import AI21LLM\n",
    "from langchain_openai import ChatOpenAI\n",
    "import pandas as pd\n",
    "from langchain_nvidia_ai_endpoints import ChatNVIDIA\n",
    "from langchain_huggingface import HuggingFaceEndpoint\n",
    "from langchain_community.agent_toolkits.sql.toolkit import SQLDatabaseToolkit\n",
    "from langchain.agents import AgentExecutor\n",
    "from langchain_fireworks import ChatFireworks\n",
    "from langchain.prompts import PromptTemplate\n",
    "from langchain_core.prompts.base import BasePromptTemplate\n",
    "from langchain_core.runnables.history import RunnableWithMessageHistory\n",
    "from langchain.memory import ChatMessageHistory\n",
    "import tkinter as tk\n",
    "from tkinter import scrolledtext, messagebox\n",
    "import config"
   ]
  },
  {
   "cell_type": "code",
   "execution_count": 118,
   "metadata": {},
   "outputs": [],
   "source": [
    "os.environ[\"AI21_API_KEY\"] = config.AI21_API_KEY\n",
    "os.environ[\"GOOGLE_API_KEY\"] = config.GOOGLE_API_KEY\n",
    "os.environ[\"OPENAI_API_KEY\"] = config.OPENAI_API_KEY\n",
    "os.environ[\"NVIDIA_API_KEY\"] = config.NVIDIA_API_KEY\n",
    "os.environ[\"HUGGINGFACEHUB_API_TOKEN\"] = config.HUGGINGFACEHUB_API_TOKEN\n",
    "os.environ[\"FIREWORKS_API_KEY\"] = config.FIREWORKS_API_KEY"
   ]
  },
  {
   "cell_type": "code",
   "execution_count": 119,
   "metadata": {},
   "outputs": [],
   "source": [
    "csv_files = os.listdir(\"./csv\")"
   ]
  },
  {
   "cell_type": "code",
   "execution_count": 5,
   "metadata": {},
   "outputs": [],
   "source": [
    "dataframe = []\n",
    "\n",
    "for csv_file in csv_files:\n",
    "    df = pd.read_csv(os.path.join(\"./csv\", csv_file))\n",
    "    for index, row in df.iterrows():\n",
    "        if type(row[\"Gender\"]) == str:\n",
    "            gender = row[\"Gender\"]\n",
    "        else:\n",
    "            row[\"Gender\"] = gender \n",
    "\n",
    "        if type(row[\"Age\"]) == str:\n",
    "            age = row[\"Age\"]\n",
    "        else:\n",
    "            row[\"Age\"] = age \n",
    "        \n",
    "        if type(row[\"File Start\"]) == str:\n",
    "            file_start = row[\"File Start\"]\n",
    "            del row[\"File Start\"]\n",
    "            row[\"file_start\"] = file_start\n",
    "        else:\n",
    "            row[\"file_start\"] = file_start\n",
    "            del row['File Start']\n",
    "\n",
    "        row['start_time'] = row['Start time']\n",
    "        del row['Start time']\n",
    "\n",
    "        row['end_time'] = row['End time']\n",
    "        del row['End time']\n",
    "\n",
    "        row['channel_names'] = row['Channel names']\n",
    "        del row['Channel names']\n",
    "\n",
    "        row['file_name'] = csv_file\n",
    "\n",
    "        dataframe.append(row)\n",
    "\n",
    "df = pd.DataFrame(dataframe)"
   ]
  },
  {
   "cell_type": "code",
   "execution_count": 7,
   "metadata": {},
   "outputs": [
    {
     "data": {
      "text/plain": [
       "9893"
      ]
     },
     "execution_count": 7,
     "metadata": {},
     "output_type": "execute_result"
    }
   ],
   "source": [
    "engine = create_engine(\"sqlite:///eeg.db\")\n",
    "df.to_sql(\"eeg\", engine, index=False)"
   ]
  },
  {
   "cell_type": "code",
   "execution_count": 8,
   "metadata": {},
   "outputs": [
    {
     "name": "stdout",
     "output_type": "stream",
     "text": [
      "sqlite\n",
      "['eeg']\n"
     ]
    },
    {
     "data": {
      "text/plain": [
       "\"[('Male', '12 years', 'spike and wave', '13:10:31', '13:14:29:034', '13:14:31', 'FP1 FP2 F3 F4 C3 C4 P3 P4 O1 O2 F7 F8 T3 T4 T5 T6 FZ PZ CZ', '1004.csv')]\""
      ]
     },
     "execution_count": 8,
     "metadata": {},
     "output_type": "execute_result"
    }
   ],
   "source": [
    "db = SQLDatabase(engine=engine)\n",
    "print(db.dialect)\n",
    "print(db.get_usable_table_names())\n",
    "db.run(\"SELECT * FROM eeg WHERE start_time == '13:14:29:034';\")"
   ]
  },
  {
   "cell_type": "code",
   "execution_count": 120,
   "metadata": {},
   "outputs": [],
   "source": [
    "llm = ChatFireworks(model=\"accounts/fireworks/models/llama-v3p1-70b-instruct\")"
   ]
  },
  {
   "cell_type": "code",
   "execution_count": 121,
   "metadata": {},
   "outputs": [],
   "source": [
    "default_prompt = \"You are a database agent for writing queries and returning answers. The table is eeg, containing CSV records of EEG recordings from different patients. Each file (identified by file_name) can have multiple entries with consistent gender, age, and file_start values. Events are single entries with a start_time, end_time, comment, and channel_names. If channel_names includes 'FP1', it implies the event was observed in FP1, and similarly for other channels. age is a non-integer string requiring conversion for comparisons. Subjects are characterized by age and gender, not filenames. File names referred to by an integer should be assumed to have a .csv extension. Timestamps in hh:mm:ss:ms format need to be cast to integers for comparisons. Use DISTINCT with file_name to handle files with multiple entries. Avoid using LIMIT unless absolutely necessary. You should also look for message history to be aware of the context completely\""
   ]
  },
  {
   "cell_type": "code",
   "execution_count": 122,
   "metadata": {},
   "outputs": [],
   "source": [
    "memory = ChatMessageHistory(session_id=\"test-session\")"
   ]
  },
  {
   "cell_type": "code",
   "execution_count": 123,
   "metadata": {},
   "outputs": [],
   "source": [
    "agent = create_sql_agent(llm, db=db, agent_type = 'zero-shot-react-description', verbose=True, handle_parsing_errors = True, use_history = True)"
   ]
  },
  {
   "cell_type": "code",
   "execution_count": 124,
   "metadata": {},
   "outputs": [],
   "source": [
    "agent_with_chat_history = RunnableWithMessageHistory(\n",
    "    agent,\n",
    "    # This is needed because in most real world scenarios, a session id is needed\n",
    "    # It isn't really used here because we are using a simple in memory ChatMessageHistory\n",
    "    lambda session_id: memory,\n",
    "    input_messages_key=\"input\",\n",
    "    history_messages_key=\"chat_history\",\n",
    ")"
   ]
  },
  {
   "cell_type": "code",
   "execution_count": 132,
   "metadata": {},
   "outputs": [],
   "source": [
    "def execute_query():\n",
    "    query = query_text.get(\"1.0\", tk.END).strip()\n",
    "    if not query:\n",
    "        messagebox.showwarning(\"Input Error\", \"Please enter a query.\")\n",
    "        return\n",
    "    \n",
    "    try:\n",
    "        result = agent_with_chat_history.invoke(\n",
    "            {\"input\": f\"{default_prompt} query: {query}\"},\n",
    "            config={\"configurable\": {\"session_id\": \"<foo>\"}})\n",
    "        output = result.get(\"output\", \"No result found\")\n",
    "        result_text.config(state=tk.NORMAL)\n",
    "        result_text.delete(\"1.0\", tk.END)\n",
    "        result_text.insert(tk.END, output)\n",
    "        result_text.config(state=tk.DISABLED)\n",
    "    except Exception as e:\n",
    "        messagebox.showerror(\"Execution Error\", str(e))"
   ]
  },
  {
   "cell_type": "code",
   "execution_count": 131,
   "metadata": {},
   "outputs": [],
   "source": [
    "# Create the main window\n",
    "root = tk.Tk()\n",
    "root.title(\"SQL Agent GUI\")\n",
    "\n",
    "# Create and place widgets\n",
    "query_label = tk.Label(root, text=\"Enter SQL Query:\")\n",
    "query_label.pack(pady=5)\n",
    "\n",
    "query_text = scrolledtext.ScrolledText(root, width=80, height=10)\n",
    "query_text.pack(pady=5)\n",
    "\n",
    "execute_button = tk.Button(root, text=\"Execute Query\", command=execute_query)\n",
    "execute_button.pack(pady=5)\n",
    "\n",
    "result_label = tk.Label(root, text=\"Query Result:\")\n",
    "result_label.pack(pady=5)\n",
    "\n",
    "result_text = scrolledtext.ScrolledText(root, width=80, height=15, state=tk.DISABLED)\n",
    "result_text.pack(pady=5)\n"
   ]
  },
  {
   "cell_type": "code",
   "execution_count": 133,
   "metadata": {},
   "outputs": [
    {
     "name": "stdout",
     "output_type": "stream",
     "text": [
      "\n",
      "\n",
      "\u001b[1m> Entering new SQL Agent Executor chain...\u001b[0m\n",
      "\u001b[32;1m\u001b[1;3mThought: I should look at the tables in the database to see what I can query.  Then I should query the schema of the most relevant tables.\n",
      "Action: sql_db_list_tables\n",
      "Action Input: \u001b[0m\u001b[38;5;200m\u001b[1;3meeg\u001b[0m\u001b[32;1m\u001b[1;3mAction: sql_db_schema\n",
      "Action Input: eeg\u001b[0m\u001b[33;1m\u001b[1;3m\n",
      "CREATE TABLE eeg (\n",
      "\t\"Gender\" TEXT, \n",
      "\t\"Age\" TEXT, \n",
      "\t\"Comment\" TEXT, \n",
      "\tfile_start TEXT, \n",
      "\tstart_time TEXT, \n",
      "\tend_time TEXT, \n",
      "\tchannel_names TEXT, \n",
      "\tfile_name TEXT\n",
      ")\n",
      "\n",
      "/*\n",
      "3 rows from eeg table:\n",
      "Gender\tAge\tComment\tfile_start\tstart_time\tend_time\tchannel_names\tfile_name\n",
      "Male\t12 years\tspike and wave\t13:10:31\t13:11:36:739\t13:11:38:478\tFP1 FP2 F3 F4 C3 C4 P3 P4 O1 O2 F7 F8 T3 T4 T5 T6 FZ PZ CZ\t1004.csv\n",
      "Male\t12 years\tspike and wave\t13:10:31\t13:14:29:034\t13:14:31\tFP1 FP2 F3 F4 C3 C4 P3 P4 O1 O2 F7 F8 T3 T4 T5 T6 FZ PZ CZ\t1004.csv\n",
      "Male\t12 years\tspike and wave\t13:10:31\t13:16:20\t13:16:21:982\tFP1 FP2 F3 F4 C3 C4 P3 P4 O1 O2 F7 F8 T3 T4 T5 T6 FZ PZ CZ\t1004.csv\n",
      "*/\u001b[0m\u001b[32;1m\u001b[1;3mThought: I have the schema of the eeg table. I can see that the Gender column is what I need to query to find a file with a male patient. I will write a query to select the file_name from the eeg table where the Gender is 'Male'.\n",
      "Action: sql_db_query_checker\n",
      "Action Input: SELECT DISTINCT file_name FROM eeg WHERE Gender = 'Male'\u001b[0m\u001b[36;1m\u001b[1;3mSELECT DISTINCT file_name FROM eeg WHERE Gender = 'Male'\u001b[0m\u001b[32;1m\u001b[1;3mAction: sql_db_query\n",
      "Action Input: SELECT DISTINCT file_name FROM eeg WHERE Gender = 'Male'\u001b[0m\u001b[36;1m\u001b[1;3m[('1004.csv',), ('1005.csv',), ('1020.csv',), ('1022.csv',), ('1024.csv',), ('103.csv',), ('1041.csv',), ('1065.csv',), ('1066.csv',), ('1071.csv',), ('1072.csv',), ('1082.csv',), ('1086.csv',), ('1088.csv',), ('131.csv',), ('137.csv',), ('138.csv',), ('180.csv',), ('217.csv',), ('219.csv',), ('222.csv',), ('245.csv',), ('247.csv',), ('26.csv',), ('278.csv',), ('281.csv',), ('306.csv',), ('330.csv',), ('337.csv',), ('359.csv',), ('361.csv',), ('376.csv',), ('386.csv',), ('391.csv',), ('4.csv',), ('400.csv',), ('403.csv',), ('437.csv',), ('444.csv',), ('502.csv',), ('519.csv',), ('538.csv',), ('556.csv',), ('570.csv',), ('585.csv',), ('6.csv',), ('634.csv',), ('635.csv',), ('637.csv',), ('638.csv',), ('652.csv',), ('680.csv',), ('681.csv',), ('700.csv',), ('734.csv',), ('744.csv',), ('750.csv',), ('753.csv',), ('790.csv',), ('827.csv',), ('851.csv',), ('862.csv',), ('864.csv',), ('873.csv',), ('893.csv',), ('919.csv',), ('925.csv',), ('926.csv',), ('940.csv',), ('951.csv',), ('952.csv',), ('956.csv',), ('964.csv',), ('965.csv',), ('993.csv',)]\u001b[0m\u001b[32;1m\u001b[1;3mThought: I now know the final answer\n",
      "Final Answer: 1004.csv\u001b[0m\n",
      "\n",
      "\u001b[1m> Finished chain.\u001b[0m\n",
      "\n",
      "\n",
      "\u001b[1m> Entering new SQL Agent Executor chain...\u001b[0m\n",
      "\u001b[32;1m\u001b[1;3mThought: I should look at the tables in the database to see what I can query.  Then I should query the schema of the most relevant tables.\n",
      "Action: sql_db_list_tables\n",
      "Action Input: \u001b[0m\u001b[38;5;200m\u001b[1;3meeg\u001b[0m\u001b[32;1m\u001b[1;3mAction: sql_db_schema\n",
      "Action Input: eeg\u001b[0m\u001b[33;1m\u001b[1;3m\n",
      "CREATE TABLE eeg (\n",
      "\t\"Gender\" TEXT, \n",
      "\t\"Age\" TEXT, \n",
      "\t\"Comment\" TEXT, \n",
      "\tfile_start TEXT, \n",
      "\tstart_time TEXT, \n",
      "\tend_time TEXT, \n",
      "\tchannel_names TEXT, \n",
      "\tfile_name TEXT\n",
      ")\n",
      "\n",
      "/*\n",
      "3 rows from eeg table:\n",
      "Gender\tAge\tComment\tfile_start\tstart_time\tend_time\tchannel_names\tfile_name\n",
      "Male\t12 years\tspike and wave\t13:10:31\t13:11:36:739\t13:11:38:478\tFP1 FP2 F3 F4 C3 C4 P3 P4 O1 O2 F7 F8 T3 T4 T5 T6 FZ PZ CZ\t1004.csv\n",
      "Male\t12 years\tspike and wave\t13:10:31\t13:14:29:034\t13:14:31\tFP1 FP2 F3 F4 C3 C4 P3 P4 O1 O2 F7 F8 T3 T4 T5 T6 FZ PZ CZ\t1004.csv\n",
      "Male\t12 years\tspike and wave\t13:10:31\t13:16:20\t13:16:21:982\tFP1 FP2 F3 F4 C3 C4 P3 P4 O1 O2 F7 F8 T3 T4 T5 T6 FZ PZ CZ\t1004.csv\n",
      "*/\u001b[0m\u001b[32;1m\u001b[1;3mThought: I have the schema of the eeg table. I can see that the table contains information about EEG recordings from different patients, including the file name, start time, end time, channel names, and comments. To answer the question \"Name an event that is there in this file\", I need to query the eeg table to find a specific event.\n",
      "\n",
      "Action: sql_db_query_checker\n",
      "Action Input: SELECT DISTINCT file_name, comment FROM eeg WHERE file_name = '1004.csv'\u001b[0m\u001b[36;1m\u001b[1;3mSELECT DISTINCT file_name, comment FROM eeg WHERE file_name = '1004.csv'\u001b[0m\u001b[32;1m\u001b[1;3mAction: sql_db_query\n",
      "Action Input: SELECT DISTINCT file_name, comment FROM eeg WHERE file_name = '1004.csv'\u001b[0m\u001b[36;1m\u001b[1;3m[('1004.csv', 'spike and wave')]\u001b[0m\u001b[32;1m\u001b[1;3mThought: I now know the final answer\n",
      "Final Answer: spike and wave\u001b[0m\n",
      "\n",
      "\u001b[1m> Finished chain.\u001b[0m\n",
      "\n",
      "\n",
      "\u001b[1m> Entering new SQL Agent Executor chain...\u001b[0m\n",
      "\u001b[32;1m\u001b[1;3mThought: I should look at the tables in the database to see what I can query.  Then I should query the schema of the most relevant tables.\n",
      "Action: sql_db_list_tables\n",
      "Action Input: \u001b[0m\u001b[38;5;200m\u001b[1;3meeg\u001b[0m\u001b[32;1m\u001b[1;3mAction: sql_db_schema\n",
      "Action Input: eeg\u001b[0m\u001b[33;1m\u001b[1;3m\n",
      "CREATE TABLE eeg (\n",
      "\t\"Gender\" TEXT, \n",
      "\t\"Age\" TEXT, \n",
      "\t\"Comment\" TEXT, \n",
      "\tfile_start TEXT, \n",
      "\tstart_time TEXT, \n",
      "\tend_time TEXT, \n",
      "\tchannel_names TEXT, \n",
      "\tfile_name TEXT\n",
      ")\n",
      "\n",
      "/*\n",
      "3 rows from eeg table:\n",
      "Gender\tAge\tComment\tfile_start\tstart_time\tend_time\tchannel_names\tfile_name\n",
      "Male\t12 years\tspike and wave\t13:10:31\t13:11:36:739\t13:11:38:478\tFP1 FP2 F3 F4 C3 C4 P3 P4 O1 O2 F7 F8 T3 T4 T5 T6 FZ PZ CZ\t1004.csv\n",
      "Male\t12 years\tspike and wave\t13:10:31\t13:14:29:034\t13:14:31\tFP1 FP2 F3 F4 C3 C4 P3 P4 O1 O2 F7 F8 T3 T4 T5 T6 FZ PZ CZ\t1004.csv\n",
      "Male\t12 years\tspike and wave\t13:10:31\t13:16:20\t13:16:21:982\tFP1 FP2 F3 F4 C3 C4 P3 P4 O1 O2 F7 F8 T3 T4 T5 T6 FZ PZ CZ\t1004.csv\n",
      "*/\u001b[0m\u001b[32;1m\u001b[1;3mThought: I have the schema of the eeg table. Now I should construct a query to list an event of the file. Since the question does not specify which file, I will assume it wants to list an event of any file. I will use the DISTINCT keyword to handle files with multiple entries.\n",
      "\n",
      "Action: sql_db_query_checker\n",
      "Action Input: SELECT DISTINCT file_name, start_time, end_time, comment FROM eeg LIMIT 1\u001b[0m\u001b[36;1m\u001b[1;3mSELECT DISTINCT file_name, start_time, end_time, comment FROM eeg LIMIT 1\u001b[0m\u001b[32;1m\u001b[1;3mAction: sql_db_query\n",
      "Action Input: SELECT DISTINCT file_name, start_time, end_time, comment FROM eeg LIMIT 1\u001b[0m\u001b[36;1m\u001b[1;3m[('1004.csv', '13:11:36:739', '13:11:38:478', 'spike and wave')]\u001b[0m\u001b[32;1m\u001b[1;3mThought: I now know the final answer\n",
      "Final Answer: An event of the file is: file_name = 1004.csv, start_time = 13:11:36:739, end_time = 13:11:38:478, comment = spike and wave\u001b[0m\n",
      "\n",
      "\u001b[1m> Finished chain.\u001b[0m\n",
      "\n",
      "\n",
      "\u001b[1m> Entering new SQL Agent Executor chain...\u001b[0m\n",
      "\u001b[32;1m\u001b[1;3mThought: I should look at the tables in the database to see what I can query.  Then I should query the schema of the most relevant tables.\n",
      "Action: sql_db_list_tables\n",
      "Action Input: \u001b[0m\u001b[38;5;200m\u001b[1;3meeg\u001b[0m\u001b[32;1m\u001b[1;3mAction: sql_db_schema\n",
      "Action Input: eeg\u001b[0m\u001b[33;1m\u001b[1;3m\n",
      "CREATE TABLE eeg (\n",
      "\t\"Gender\" TEXT, \n",
      "\t\"Age\" TEXT, \n",
      "\t\"Comment\" TEXT, \n",
      "\tfile_start TEXT, \n",
      "\tstart_time TEXT, \n",
      "\tend_time TEXT, \n",
      "\tchannel_names TEXT, \n",
      "\tfile_name TEXT\n",
      ")\n",
      "\n",
      "/*\n",
      "3 rows from eeg table:\n",
      "Gender\tAge\tComment\tfile_start\tstart_time\tend_time\tchannel_names\tfile_name\n",
      "Male\t12 years\tspike and wave\t13:10:31\t13:11:36:739\t13:11:38:478\tFP1 FP2 F3 F4 C3 C4 P3 P4 O1 O2 F7 F8 T3 T4 T5 T6 FZ PZ CZ\t1004.csv\n",
      "Male\t12 years\tspike and wave\t13:10:31\t13:14:29:034\t13:14:31\tFP1 FP2 F3 F4 C3 C4 P3 P4 O1 O2 F7 F8 T3 T4 T5 T6 FZ PZ CZ\t1004.csv\n",
      "Male\t12 years\tspike and wave\t13:10:31\t13:16:20\t13:16:21:982\tFP1 FP2 F3 F4 C3 C4 P3 P4 O1 O2 F7 F8 T3 T4 T5 T6 FZ PZ CZ\t1004.csv\n",
      "*/\u001b[0m\u001b[32;1m\u001b[1;3mThought: I now know the schema of the eeg table. I can see that the channel_names column contains the names of the channels where the event occurs. I can query this column to get the channel names.\n",
      "\n",
      "Action: sql_db_query_checker\n",
      "Action Input: SELECT DISTINCT file_name, channel_names FROM eeg\u001b[0m\u001b[36;1m\u001b[1;3mSELECT DISTINCT file_name, channel_names FROM eeg\u001b[0m\u001b[32;1m\u001b[1;3mAction: sql_db_query\n",
      "Action Input: SELECT DISTINCT file_name, channel_names FROM eeg\u001b[0m\u001b[36;1m\u001b[1;3m[('1004.csv', 'FP1 FP2 F3 F4 C3 C4 P3 P4 O1 O2 F7 F8 T3 T4 T5 T6 FZ PZ CZ'), ('1005.csv', 'FP1 FP2 F3 F4 C3 C4 P3 P4 O1 O2 F7 F8 T3 T4 T5 T6 FZ PZ CZ'), ('1005.csv', 'FP1 FP2 F3 F4'), ('1005.csv', 'FZ'), ('1005.csv', 'F8'), ('1005.csv', 'C3 C4 P3 P4'), ('1005.csv', 'PZ CZ'), ('1018.csv', 'FP1 FP2 F3 F4 C3 C4 P3 P4 O1 O2 F7 F8 T3 T4 T5 T6 FZ PZ CZ'), ('1020.csv', 'FP1 FP2 F3 F4 C3 C4 P3 P4 O1 O2 F7 F8 T3 T4 T5 T6 FZ PZ CZ'), ('1020.csv', 'FP1 FP2 F3 F4 C3 C4 P3 P4 O1 O2 F7 F8 T3 T4 T5 T6 FZ PZ CZ FP1'), ('1020.csv', 'O2'), ('1020.csv', 'P4'), ('1022.csv', 'FP1 FP2 F3 F4 C3 C4 P3 P4 O1 O2 F7 F8 T3 T4 T5 T6 FZ PZ CZ'), ('1022.csv', 'FP1 FP2 F3 F4'), ('1022.csv', 'O1 O2'), ('1022.csv', 'FZ'), ('1022.csv', 'F7 F8'), ('1022.csv', 'FP1 FP2 F3 F4 C3 C4 P3 P4 O1 O2 F7 F8 T3 T4 T5 T6 FZ PZ CZ FP1'), ('1024.csv', 'FP1 FP2 F3 F4'), ('1024.csv', 'F7 F8'), ('1024.csv', 'FZ'), ('1024.csv', 'FP1 FP2 F3 F4 C3 C4 P3 P4 O1 O2 F7 F8 T3 T4 T5 T6 FZ PZ CZ'), ('1029.csv', 'FP1 FP2 F3 F4 C3 C4 P3 P4 O1 O2 F7 F8 T3 T4 T5 T6 FZ PZ CZ'), ('1029.csv', 'FP1 FP2 F3 F4'), ('1029.csv', 'F7'), ('1029.csv', 'FZ'), ('103.csv', 'FP1 FP2 F3 F4 C3 C4 P3 P4 O1 O2 F7 F8'), ('103.csv', 'FP1 FP2 F3 F4 C3 C4 P3 P4 O1 O2 F7 F8 T3 T4 T5 T6 FZ PZ CZ'), ('1041.csv', 'O2'), ('1041.csv', 'T6'), ('1041.csv', 'T5'), ('1041.csv', 'O1 O2'), ('1041.csv', 'T5 T6'), ('1041.csv', 'FP1 FP2 F3 F4 C3 C4 P3 P4 O1 O2 F7 F8 T3 T4 T5 T6 FZ PZ CZ'), ('1041.csv', 'P3 P4 O1 O2'), ('1041.csv', 'C4 P3 P4 O1 O2'), ('1064.csv', 'FP1 FP2 F3 F4 C3 C4 P3 P4 O1 O2 F7 F8 T3 T4 T5 T6 FZ PZ CZ'), ('1064.csv', 'FP1 FP2 F3 F4'), ('1065.csv', 'C4'), ('1065.csv', 'T4'), ('1065.csv', 'C3'), ('1065.csv', 'T3'), ('1065.csv', 'P4'), ('1066.csv', 'FP1 FP2 F3 F4 C3 C4 P3 P4 O1 O2 F7 F8 T3 T4 T5 T6 FZ PZ CZ'), ('1071.csv', 'FP2'), ('1071.csv', 'F4'), ('1071.csv', 'F8'), ('1071.csv', 'FZ'), ('1071.csv', 'FP1 FP2 F3 F4 C3'), ('1071.csv', 'F7 F8'), ('1071.csv', 'FP1 FP2'), ('1071.csv', 'FP1 FP2 F3 F4'), ('1071.csv', 'F3'), ('1071.csv', 'F7'), ('1072.csv', 'FP1 FP2 F3 F4 C3 C4 P3 P4 O1 O2 F7 F8 T3 T4 T5 T6 FZ PZ CZ'), ('1072.csv', 'FP1 FP2 F3 F4'), ('1072.csv', 'F7 F8'), ('1072.csv', 'FZ'), ('1072.csv', 'FP1'), ('1072.csv', 'F3'), ('1072.csv', 'F7'), ('1082.csv', 'FP2'), ('1082.csv', 'F4'), ('1082.csv', 'F8'), ('1082.csv', 'FZ'), ('1082.csv', 'FP1 FP2 F3 F4 C3 C4 P3 P4 O1 O2 F7 F8 T3 T4 T5 T6 FZ PZ CZ'), ('1086.csv', 'FP1 FP2 F3 F4 C3 C4 P3 P4 O1 O2 F7 F8 T3 T4 T5 T6 FZ PZ CZ'), ('1086.csv', 'O1 O2'), ('1086.csv', 'T5 T6'), ('1086.csv', 'C3 C4 P3 P4 O1 O2 F7 F8 T3 T4 T5 T6 FZ PZ CZ'), ('1086.csv', 'P3 P4 O1 O2 F7 F8 T3 T4 T5 T6 FZ PZ CZ'), ('1088.csv', 'FP2'), ('1088.csv', 'F4'), ('1088.csv', 'F8'), ('1088.csv', 'FP1 FP2 F3 F4 C3 C4 P3 P4 O1 O2 F7 F8 T3 T4 T5 T6 FZ PZ CZ'), ('1090.csv', 'C4 P3 P4 O1 O2 F7 F8 T3 T4 T5 T6 FZ PZ CZ'), ('1090.csv', 'FP1 FP2 F3 F4 C3 C4 P3 P4 O1 O2 F7 F8 T3 T4 T5 T6 FZ PZ CZ'), ('1090.csv', 'F3 F4 C3 C4 P3 P4 O1 O2 F7 F8 T3 T4 T5 T6 FZ PZ CZ'), ('1090.csv', 'FP1 FP2 F3 F4 C3 C4 P3 P4 O1 O2 F7 F8 T3 T4 T5 T6 FZ'), ('112.csv', 'FP1 FP2 F3 F4 C3 C4 P3 P4 O1 O2 F7 F8 T3 T4 T5 T6 FZ PZ CZ'), ('127.csv', 'FP1 FP2 F3 F4 C3 C4 P3 P4 O1 O2 F7 F8 T3 T4 T5 T6 FZ PZ CZ'), ('131.csv', 'FP1 FP2 F3 F4 C3 C4 P3 P4 O1 O2 F7 F8 T3 T4 T5 T6 FZ PZ CZ'), ('131.csv', 'FP1'), ('131.csv', 'F3'), ('131.csv', 'C3'), ('131.csv', 'F7'), ('131.csv', 'FZ PZ CZ'), ('131.csv', 'FP1 FP2 F3 F4'), ('131.csv', 'F7 F8'), ('131.csv', 'FP1 FP2 F3 F4 C3 C4 P3 P4 O1 O2 F7 F8'), ('137.csv', 'C4 P3 P4'), ('137.csv', 'PZ'), ('137.csv', 'FP1 FP2 F3 F4 C3 C4 P3 P4 O1 O2 F7 F8 T3 T4 T5 T6 FZ PZ CZ'), ('137.csv', 'P3 P4 O1'), ('137.csv', 'C3 C4 P3 P4'), ('137.csv', 'P3 P4'), ('137.csv', 'P4'), ('137.csv', 'C4'), ('137.csv', 'P3 P4 O1 O2'), ('138.csv', 'C4 P3 P4'), ('138.csv', 'PZ'), ('138.csv', 'FP1 FP2 F3 F4 C3 C4 P3 P4 O1 O2 F7 F8 T3 T4 T5 T6 FZ PZ CZ'), ('138.csv', 'C3 C4 P3 P4'), ('138.csv', 'P3 P4 O1 O2'), ('138.csv', 'C3 C4 P3 P4 O1 O2 F7 F8'), ('138.csv', 'T6'), ('138.csv', 'P3 P4'), ('138.csv', 'P4'), ('138.csv', 'P3 P4 O1'), ('180.csv', 'FP1 FP2 F3 F4 C3 C4 P3 P4 O1 O2 F7 F8 T3 T4 T5 T6 FZ PZ CZ'), ('217.csv', 'FP1 FP2 F3 F4 C3 C4 P3 P4 O1 O2 F7 F8 T3 T4 T5 T6 FZ PZ CZ'), ('217.csv', 'FP1 FP2 F3 F4 C3 C4 P3 P4 O1 O2 F7 F8 T3 T4 T5 T6 FZ PZ CZ FP1'), ('219.csv', 'C4'), ('219.csv', 'P4'), ('222.csv', 'FP1 FP2 F3 F4 C3 C4 P3 P4 O1 O2 F7 F8'), ('222.csv', 'FZ'), ('222.csv', 'FZ PZ CZ'), ('222.csv', 'FP1 FP2 F3 F4 C3 C4'), ('222.csv', 'F7 F8'), ('222.csv', 'FP2'), ('222.csv', 'F4'), ('222.csv', 'F8'), ('222.csv', 'FP1 FP2 F3 F4 C3 C4 P3 P4 O1 O2 F7 F8 T3 T4 T5 T6 FZ PZ CZ'), ('243.csv', 'FP1 FP2 F3 F4 C3 C4 P3 P4 O1 O2 F7 F8 T3 T4 T5 T6 FZ PZ CZ'), ('245.csv', 'FP1 FP2 F3 F4 C3 C4 P3 P4 O1 O2 F7 F8 T3 T4 T5 T6 FZ PZ CZ'), ('247.csv', 'FP1 FP2 F3 F4 C3 C4 P3 P4 O1 O2 F7 F8 T3 T4 T5 T6 FZ PZ CZ'), ('250.csv', 'FP1 FP2 F3 F4 C3 C4 P3 P4 O1 O2 F7 F8 T3 T4 T5 T6 FZ PZ CZ'), ('26.csv', 'FP1 FP2 F3 F4 C3 C4 P3 P4 O1 O2 F7 F8 T3 T4 T5 T6 FZ PZ CZ'), ('26.csv', 'FP1 FP2 F3 F4 C3 C4 P3 P4'), ('26.csv', 'F7 F8 T3 T4 T5 T6 FZ PZ CZ'), ('266.csv', 'FP1 FP2 F3 F4 C3 C4 P3 P4 O1 O2 F7 F8 T3 T4 T5 T6 FZ PZ CZ'), ('278.csv', 'FP1 FP2 F3 F4 C3 C4 P3 P4 O1 O2 F7 F8 T3 T4 T5 T6 FZ PZ CZ'), ('278.csv', 'FP2'), ('278.csv', 'F4'), ('278.csv', 'F8'), ('278.csv', 'FP1 FP2'), ('281.csv', 'C3'), ('281.csv', 'T3'), ('281.csv', 'FP1'), ('281.csv', 'F3'), ('281.csv', 'P3'), ('281.csv', 'FP1 FP2 F3 F4 C3 C4 P3 P4 O1 O2 F7 F8 T3 T4 T5 T6 FZ PZ CZ'), ('281.csv', 'T6'), ('281.csv', 'FZ'), ('281.csv', 'C4'), ('281.csv', 'T4'), ('281.csv', 'FP2'), ('281.csv', 'FP1 FP2 F3 F4 C3 C4 P3 P4 O1 O2 F7 F8 T3 T4 T5 T6 FZ PZ CZ FP1'), ('289.csv', 'FP1 FP2 F3 F4 C3 C4 P3 P4 O1 O2 F7 F8 T3 T4 T5 T6 FZ PZ CZ'), ('289.csv', 'O1 O2 F7 F8 T3 T4 T5 T6 FZ PZ CZ'), ('289.csv', 'FP1 FP2 F3 F4 C3 C4 P3 P4 O1 O2 F7 F8 T3 T4 T5'), ('289.csv', 'FP1 FP2 F3 F4 C3 C4 P3 P4 O1 O2 F7 F8 T3 T4 T5 T6 FZ PZ CZ FP1'), ('306.csv', 'FP1 FP2 F3 F4 C3 C4 P3 P4 O1 O2 F7 F8 T3 T4 T5 T6 FZ PZ CZ'), ('306.csv', 'FP1 FP2 F3 F4 C3 C4 P3'), ('306.csv', 'F8'), ('306.csv', 'PZ CZ'), ('306.csv', 'FP1 FP2 F3 F4 C3 C4 P3 P4 O1 O2 F7 F8'), ('306.csv', 'FZ PZ CZ'), ('306.csv', 'FP2'), ('306.csv', 'F4'), ('330.csv', 'FP1 FP2 F3 F4 C3 C4 P3 P4 O1 O2 F7 F8 T3 T4 T5 T6 FZ PZ CZ'), ('337.csv', 'FP1 FP2 F3 F4 C3 C4 P3 P4 O1 O2 F7'), ('337.csv', 'T5 T6 FZ PZ CZ'), ('337.csv', 'FP1 FP2 F3 F4 C3'), ('337.csv', 'T6 FZ PZ CZ'), ('337.csv', 'FP1 FP2 F3 F4 C3 C4 P3 P4 O1 O2 F7 F8 T3 T4 T5 T6 FZ PZ CZ'), ('337.csv', 'FP1 FP2 F3 F4 C3 C4 P3 P4 O1 O2 F7 F8'), ('337.csv', 'C4 P3 P4 O1 O2 F7 F8 T3 T4 T5 T6 FZ PZ CZ'), ('337.csv', 'P4 O1 O2 F7 F8 T3 T4 T5 T6 FZ PZ CZ'), ('337.csv', 'P3 P4 O1 O2 F7 F8 T3 T4 T5 T6 FZ PZ CZ'), ('337.csv', 'FP1 FP2 F3 F4 C3 C4 P3 P4 O1 O2 F7 F8 T3 T4 T5 T6 FZ PZ CZ FP1'), ('353.csv', 'FP1 FP2 F3 F4 C3 C4 P3 P4 O1 O2 F7 F8 T3 T4 T5 T6 FZ PZ CZ'), ('353.csv', 'FP1 FP2 F3 F4'), ('353.csv', 'F7 F8'), ('353.csv', 'FZ'), ('354.csv', 'C3'), ('354.csv', 'P3'), ('354.csv', 'FP1 FP2 F3 F4 C3 C4 P3 P4 O1 O2'), ('354.csv', 'C4'), ('354.csv', 'P4'), ('354.csv', 'FP1 FP2 F3 F4 C3 C4 P3 P4 O1 O2 F7 F8 T3 T4 T5 T6 FZ PZ CZ'), ('354.csv', 'C3 C4 P3 P4 O1 O2'), ('354.csv', 'PZ CZ'), ('354.csv', 'C3 C4 P3 P4 O1 O2 F7 F8 T3 T4 T5 T6 FZ PZ CZ'), ('354.csv', 'C3 C4 P3 P4'), ('354.csv', 'FZ PZ CZ'), ('354.csv', 'FP1 FP2 F3 F4'), ('354.csv', 'F7 F8'), ('354.csv', 'FZ'), ('354.csv', 'T5'), ('354.csv', 'FP1 FP2 F3 F4 C3 C4 P3 P4 O1 O2 F7 F8 T3 T4 T5 T6 FZ'), ('354.csv', 'PZ'), ('354.csv', 'CZ'), ('354.csv', 'C4 P3'), ('354.csv', 'C4 P3 P4'), ('354.csv', 'FP1 FP2 F3 F4 C3 C4 P3 P4 O1 O2 F7 F8 T3 T4 T5 T6 FZ PZ CZ FP1'), ('354.csv', 'O2'), ('359.csv', 'FP2'), ('359.csv', 'F4'), ('359.csv', 'C4'), ('359.csv', 'F8'), ('359.csv', 'T4'), ('359.csv', 'T6'), ('359.csv', 'PZ CZ'), ('359.csv', 'T3'), ('359.csv', 'T5'), ('359.csv', 'P4'), ('359.csv', 'O2'), ('361.csv', 'FP1 FP2 F3 F4 C3 C4 P3 P4 O1 O2 F7 F8 T3 T4 T5 T6 FZ PZ CZ'), ('361.csv', 'O2'), ('361.csv', 'P4'), ('361.csv', 'T6'), ('361.csv', 'FP2 F3 F4 C3 C4 P3 P4 O1 O2 F7 F8 T3 T4 T5 T6 FZ PZ CZ'), ('361.csv', 'T5 T6'), ('376.csv', 'FP1 FP2 F3 F4'), ('376.csv', 'F7 F8'), ('376.csv', 'FZ'), ('376.csv', 'FP2'), ('376.csv', 'F3'), ('376.csv', 'F7'), ('376.csv', 'FP1 FP2 F3 F4 C3 C4 P3 P4 O1 O2 F7 F8 T3 T4 T5 T6 FZ PZ CZ'), ('376.csv', 'FZ PZ CZ'), ('376.csv', 'F4'), ('376.csv', 'F8'), ('376.csv', 'FP1'), ('386.csv', 'P3'), ('386.csv', 'PZ'), ('386.csv', 'FP1 FP2 F3 F4 C3 C4 P3 P4 O1 O2 F7 F8 T3 T4 T5 T6 FZ PZ CZ'), ('386.csv', 'O1'), ('391.csv', 'FP1 FP2 F3 F4 C3 C4 P3 P4 O1 O2 F7 F8 T3 T4 T5 T6 FZ PZ CZ'), ('391.csv', 'F8 T3 T4 T5 T6 FZ PZ CZ'), ('4.csv', 'C3'), ('4.csv', 'T3'), ('4.csv', 'F8'), ('4.csv', 'T4'), ('400.csv', 'FP1 FP2 F3 F4 C3 C4 P3 P4 O1 O2 F7 F8 T3 T4 T5 T6 FZ PZ CZ'), ('403.csv', 'FP1 FP2 F3 F4 C3 C4 P3 P4 O1 O2 F7 F8 T3 T4 T5 T6 FZ PZ CZ'), ('403.csv', 'P4 O1 O2 F7 F8 T3 T4 T5 T6 FZ PZ CZ'), ('403.csv', 'FP1 FP2 F3 F4 C3 C4 P3 P4 O1 O2 F7 F8 T3 T4 T5 T6'), ('403.csv', 'FP1 FP2 F3 F4'), ('403.csv', 'P3 P4 O1 O2 F7 F8 T3 T4 T5 T6 FZ PZ CZ'), ('403.csv', 'C4 P3 P4 O1 O2 F7 F8 T3 T4 T5 T6 FZ PZ CZ'), ('403.csv', 'T4 T5 T6 FZ PZ CZ'), ('403.csv', 'O1 O2 F7 F8 T3 T4 T5 T6 FZ PZ CZ'), ('403.csv', 'O2 F7 F8 T3 T4 T5 T6 FZ PZ CZ'), ('403.csv', 'FP1 FP2 F3 F4 C3 C4 P3 P4 O1 O2 F7 F8'), ('403.csv', 'T5 T6 FZ PZ CZ'), ('403.csv', 'FP1 FP2 F3 F4 C3 C4 P3 P4 O1 O2 F7 F8 T3 T4 T5 T6 FZ PZ CZ FP1'), ('437.csv', 'FP1 FP2 F3 F4 C3 C4 P3 P4 O1 O2 F7 F8 T3 T4 T5 T6 FZ PZ CZ'), ('437.csv', 'FP1 FP2 F3 F4 C3 C4 P3 P4 O1 O2 F7 F8 T3 T4 T5 T6 FZ PZ CZ FP1'), ('444.csv', 'FP1 FP2 F3 F4 C3 C4 P3 P4 O1 O2 F7 F8 T3 T4 T5 T6 FZ PZ CZ'), ('472.csv', 'FP1 FP2 F3 F4 C3 C4 P3 P4 O1 O2 F7 F8 T3 T4 T5 T6 FZ PZ CZ'), ('494.csv', 'FP1 FP2 F3 F4 C3 C4 P3 P4 O1 O2 F7 F8 T3 T4 T5 T6 FZ PZ CZ'), ('494.csv', 'FP1 FP2 F3 F4'), ('494.csv', 'F7 F8'), ('494.csv', 'FZ'), ('502.csv', 'FP1 FP2 F3 F4'), ('502.csv', 'F7 F8'), ('502.csv', 'O1 O2'), ('502.csv', 'P3 P4'), ('502.csv', 'FP2'), ('502.csv', 'F4'), ('502.csv', 'F8'), ('502.csv', 'PZ CZ'), ('502.csv', 'PZ'), ('502.csv', 'FP1 FP2 F3 F4 C3 C4 P3 P4'), ('502.csv', 'FZ PZ CZ'), ('502.csv', 'FP1 FP2 F3 F4 C3 C4 P3 P4 O1 O2 F7 F8 T3 T4 T5 T6 FZ PZ CZ'), ('502.csv', 'FZ'), ('507.csv', 'F7'), ('507.csv', 'F4 C3 C4 P3 P4 O1 O2 F7 F8 T3 T4 T5 T6 FZ PZ CZ'), ('507.csv', 'F4'), ('507.csv', 'FP1 FP2 F3 F4 C3 C4 P3 P4 O1 O2 F7 F8 T3 T4 T5 T6 FZ PZ CZ'), ('507.csv', 'F8'), ('507.csv', 'FP1 FP2 F3 F4'), ('507.csv', 'FP1'), ('507.csv', 'F3'), ('507.csv', 'C3'), ('507.csv', 'FP2'), ('507.csv', 'FZ'), ('507.csv', 'F7 F8'), ('507.csv', 'FP1 FP2 F3'), ('507.csv', 'F8 T3'), ('507.csv', 'FP1 FP2 F3 F4 C3'), ('507.csv', 'FP1 FP2 F3 F4 C3 C4 P3 P4'), ('507.csv', 'T3'), ('507.csv', 'FP1 FP2 F3 F4 C3 C4 P3 P4 O1 O2 F7 F8 T3'), ('507.csv', 'T4'), ('507.csv', 'T5'), ('507.csv', 'O2'), ('507.csv', 'FZ PZ CZ'), ('510.csv', 'FP1 FP2 F3 F4 C3 C4 P3 P4 O1 O2 F7 F8 T3 T4 T5 T6 FZ PZ CZ'), ('510.csv', 'FP1 FP2 F3 F4 C3 C4 P3'), ('510.csv', 'P4'), ('510.csv', 'O1'), ('510.csv', 'F7 F8 T3 T4 T5 T6 FZ PZ CZ'), ('510.csv', 'FP1'), ('510.csv', 'F3'), ('510.csv', 'C3'), ('510.csv', 'F7'), ('510.csv', 'FP2'), ('510.csv', 'F4'), ('510.csv', 'C4'), ('510.csv', 'T3'), ('510.csv', 'FZ'), ('510.csv', 'P3'), ('510.csv', 'C3 C4 P3 P4 O1'), ('510.csv', 'PZ CZ'), ('510.csv', 'FP2 F3 F4 C3 C4 P3 P4'), ('510.csv', 'FP1 FP2 F3 F4 C3 C4 P3 P4 O1 O2 F7 F8'), ('510.csv', 'C4 P3 P4 O1 O2 F7 F8 T3 T4 T5 T6 FZ PZ CZ'), ('519.csv', 'FP1 FP2 F3 F4'), ('519.csv', 'FZ'), ('519.csv', 'F7'), ('519.csv', 'F7 F8'), ('519.csv', 'FP1 FP2 F3 F4 C3 C4 P3 P4 O1 O2 F7 F8 T3 T4 T5 T6 FZ PZ CZ'), ('519.csv', 'FP1'), ('519.csv', 'FP2'), ('519.csv', 'FP1 FP2 F3 F4 C3 C4 P3 P4 O1 O2 F7'), ('519.csv', 'F3'), ('519.csv', 'O2 F7'), ('519.csv', 'FP1 FP2 F3 F4 C3'), ('519.csv', 'F8'), ('538.csv', 'FP1 FP2 F3 F4 C3 C4 P3 P4 O1 O2 F7 F8 T3 T4 T5 T6 FZ PZ CZ'), ('545.csv', 'FP1 FP2 F3 F4'), ('545.csv', 'F7 F8'), ('545.csv', 'FZ'), ('545.csv', 'FP1 FP2 F3 F4 C3 C4 P3 P4 O1 O2 F7 F8 T3 T4 T5 T6 FZ PZ CZ'), ('556.csv', 'FP1 FP2 F3 F4'), ('556.csv', 'F7'), ('556.csv', 'F8'), ('556.csv', 'FZ'), ('556.csv', 'FP2'), ('556.csv', 'F4'), ('556.csv', 'F3'), ('556.csv', 'C3'), ('556.csv', 'FP2 F3 F4'), ('556.csv', 'F7 F8'), ('556.csv', 'FP1'), ('556.csv', 'P4'), ('556.csv', 'FP1 FP2 F3 F4 C3 C4 P3 P4 O1 O2 F7 F8 T3 T4 T5 T6 FZ PZ CZ'), ('570.csv', 'FP1 FP2 F3 F4 C3 C4 P3 P4 O1 O2 F7 F8 T3 T4 T5 T6 FZ PZ CZ'), ('570.csv', 'FP1 FP2 F3 F4 C3 C4'), ('573.csv', 'FP1 FP2 F3 F4 C3 C4 P3 P4 O1 O2 F7 F8 T3 T4 T5 T6 FZ PZ CZ'), ('577.csv', 'FP1 FP2 F3 F4 C3 C4 P3 P4 O1 O2 F7 F8 T3 T4 T5 T6 FZ PZ CZ'), ('577.csv', 'FP1 FP2 F3 F4 C3 C4 P3 P4 O1 O2 F7 F8 T3 T4 T5 T6 FZ PZ CZ FP1'), ('577.csv', 'FP1 FP2 F3 F4 C3 C4 P3'), ('577.csv', 'T4 T5 T6 FZ PZ CZ'), ('577.csv', 'C4 P3 P4 O1 O2 F7 F8 T3 T4 T5 T6 FZ PZ CZ'), ('577.csv', 'FP1 FP2 F3 F4 C3 C4 P3 P4 O1 O2 F7 F8 T3'), ('577.csv', 'T5 T6 FZ PZ CZ'), ('577.csv', 'FP1 FP2 F3 F4 C3 C4 P3 P4 O1 O2 F7'), ('585.csv', 'F3'), ('585.csv', 'C3'), ('585.csv', 'P3'), ('585.csv', 'O1'), ('585.csv', 'F7'), ('585.csv', 'T3'), ('585.csv', 'T5'), ('585.csv', 'FP1'), ('585.csv', 'FZ'), ('585.csv', 'FZ PZ CZ'), ('585.csv', 'T6'), ('586.csv', 'O1 O2'), ('586.csv', 'FP1 FP2 F3 F4 C3 C4 P3 P4 O1 O2 F7 F8 T3 T4 T5 T6 FZ PZ CZ'), ('586.csv', 'P4 O1 O2'), ('586.csv', 'O1'), ('586.csv', 'O2'), ('586.csv', 'P4 O1'), ('586.csv', 'T6'), ('586.csv', 'P3 P4 O1 O2'), ('586.csv', 'C4 P3 P4 O1 O2'), ('586.csv', 'T6 FZ PZ CZ'), ('586.csv', 'F4 C3 C4 P3 P4 O1 O2 F7 F8 T3 T4 T5 T6 FZ PZ CZ'), ('586.csv', 'F3 F4 C3 C4 P3 P4 O1 O2 F7 F8 T3 T4 T5 T6 FZ PZ CZ'), ('586.csv', 'C3 C4 P3 P4 O1 O2 F7 F8 T3 T4 T5 T6 FZ PZ CZ'), ('586.csv', 'C3 C4 P3 P4 O1 O2'), ('586.csv', 'T5 T6'), ('586.csv', 'P3 P4 O1 O2 F7 F8 T3 T4 T5 T6 FZ PZ CZ'), ('586.csv', 'T5 T6 FZ'), ('586.csv', 'C3 C4 P3 P4 O1 O2 F7'), ('586.csv', 'P3 P4 O1'), ('586.csv', 'T4 T5 T6 FZ PZ CZ'), ('594.csv', 'FP1 FP2 F3 F4 C3 C4 P3 P4 O1 O2 F7 F8 T3 T4 T5 T6 FZ PZ CZ'), ('594.csv', 'C3 C4 P3 P4'), ('594.csv', 'PZ CZ'), ('598.csv', 'Fp1-A1 Fp2-A2 F3-A1 F4-A2 C3-A1 C4-A2 P3-A1 P4-A2 O1-A1 O2-A2 F7-A1 F8-A2 T3-A1 T4-A2 T5-A1 T6-A2 Add_lead1 Add_lead2 Add_lead3'), ('599.csv', 'Fp1-A1 Fp2-A2 F3-A1 F4-A2 C3-A1 C4-A2 P3-A1 P4-A2 O1-A1 O2-A2 F7-A1 F8-A2 T3-A1 T4-A2 T5-A1 T6-A2 Add_lead1 Add_lead2 Add_lead3'), ('6.csv', 'FP1 FP2 F3 F4'), ('6.csv', 'F7 F8'), ('6.csv', 'FZ'), ('6.csv', 'FP2'), ('6.csv', 'F4'), ('6.csv', 'F8'), ('6.csv', 'FP1 FP2 F3 F4 C3 C4 P3 P4 O1 O2 F7 F8 T3 T4 T5 T6 FZ PZ CZ'), ('6.csv', 'FP1'), ('6.csv', 'F3'), ('6.csv', 'FP1 FP2'), ('6.csv', 'F7'), ('620.csv', 'P4'), ('620.csv', 'O1'), ('620.csv', 'T6'), ('620.csv', 'O2'), ('620.csv', 'C4'), ('620.csv', 'T5'), ('620.csv', 'C3 C4 P3 P4 O1 O2'), ('620.csv', 'PZ'), ('620.csv', 'T6 FZ PZ CZ'), ('620.csv', 'C4 P3 P4 O1 O2'), ('620.csv', 'C3 C4 P3 P4'), ('620.csv', 'FZ'), ('620.csv', 'T5 T6'), ('620.csv', 'PZ CZ'), ('621.csv', 'C4'), ('621.csv', 'P4'), ('621.csv', 'O2'), ('621.csv', 'T5'), ('621.csv', 'C4 P3 P4 O1 O2'), ('621.csv', 'T6 FZ PZ CZ'), ('621.csv', 'P3 P4 O1 O2'), ('621.csv', 'FP1 FP2 F3 F4 C3 C4 P3 P4 O1 O2 F7 F8 T3 T4 T5 T6 FZ PZ CZ'), ('621.csv', 'C3 C4 P3 P4 O1 O2'), ('621.csv', 'PZ'), ('621.csv', 'FZ'), ('623.csv', 'C3'), ('623.csv', 'F3'), ('624.csv', 'C3'), ('627.csv', 'FP1 FP2 F3 F4 C3 C4 P3 P4 O1 O2 F7 F8 T3 T4 T5 T6 FZ PZ CZ'), ('627.csv', 'FP1 FP2 F3 F4 C3 C4 P3 P4 O1 O2 F7 F8'), ('627.csv', 'P3 P4 O1 O2 F7'), ('627.csv', 'FZ PZ'), ('627.csv', 'FP1 FP2 F3'), ('627.csv', 'F7 F8'), ('627.csv', 'C4 P3 P4'), ('627.csv', 'FZ'), ('627.csv', 'P3 P4'), ('627.csv', 'PZ'), ('627.csv', 'FP1 FP2 F3 F4 C3 C4 P3 P4 O1 O2 F7 F8 T3'), ('627.csv', 'FP1 FP2 F3 F4 C3 C4 P3 P4 O1 O2 F7 F8 T3 T4 T5 T6 FZ PZ'), ('634.csv', 'FP1 FP2 F3 F4 C3 C4 P3 P4 O1 O2 F7 F8 T3 T4 T5 T6 FZ PZ CZ'), ('634.csv', 'FP1 FP2 F3 F4'), ('634.csv', 'FZ'), ('635.csv', 'FP1 FP2 F3 F4 C3 C4 P3 P4 O1 O2 F7 F8 T3 T4 T5 T6 FZ PZ CZ'), ('635.csv', 'FP1 FP2 F3 F4 C3'), ('635.csv', 'F7'), ('635.csv', 'FZ PZ CZ'), ('637.csv', 'FP1 FP2 F3 F4 C3 C4 P3 P4 O1 O2 F7 F8 T3 T4 T5 T6 FZ PZ CZ'), ('637.csv', 'FP1 FP2 F3 F4'), ('637.csv', 'F7 F8'), ('637.csv', 'FZ'), ('638.csv', 'FP1 FP2 F3 F4 C3 C4 P3 P4 O1 O2 F7 F8 T3 T4 T5 T6 FZ PZ CZ'), ('638.csv', 'FP1 FP2 F3 F4 C3'), ('638.csv', 'F8'), ('638.csv', 'FZ'), ('638.csv', 'FP1 FP2'), ('638.csv', 'F4'), ('638.csv', 'FP1 FP2 F3 F4'), ('638.csv', 'F8 T3'), ('652.csv', 'FP1 FP2 F3 F4'), ('652.csv', 'F7'), ('652.csv', 'FZ'), ('652.csv', 'F7 F8'), ('652.csv', 'FP1 FP2 F3 F4 C3 C4 P3 P4 O1 O2 F7 F8 T3 T4 T5 T6 FZ PZ CZ'), ('652.csv', 'FP1'), ('652.csv', 'F3'), ('652.csv', 'FP2'), ('652.csv', 'F4'), ('652.csv', 'FP1 FP2'), ('652.csv', 'F8'), ('652.csv', 'FP2 F3'), ('652.csv', 'FP1 FP2 F3 F4 C3'), ('676.csv', 'FP1 FP2 F3 F4 C3 C4 P3 P4 O1 O2 F7 F8 T3 T4 T5 T6 FZ PZ CZ'), ('680.csv', 'FP1 FP2 F3 F4 C3 C4 P3 P4 O1 O2 F7 F8 T3 T4 T5 T6 FZ PZ CZ'), ('681.csv', 'P4'), ('681.csv', 'O2'), ('681.csv', 'P4 O1 O2'), ('681.csv', 'P4 O1'), ('681.csv', 'FP2'), ('681.csv', 'F4'), ('681.csv', 'P3 P4'), ('700.csv', 'FP1 FP2 F3 F4 C3 C4 P3 P4 O1 O2 F7 F8 T3 T4 T5 T6 FZ PZ CZ'), ('700.csv', 'FP1 FP2 F3 F4 C3 C4 P3 P4 O1 O2 F7 F8 T3 T4 T5 T6 FZ PZ CZ FP1'), ('734.csv', 'FP1 FP2 F3 F4 C3 C4 P3 P4 O1 O2 F7 F8 T3 T4 T5 T6 FZ PZ CZ'), ('734.csv', 'FP1 FP2 F3 F4 C3 C4 P3 P4 O1 O2 F7 F8 T3 T4 T5'), ('734.csv', 'FP1 FP2 F3 F4 C3 C4 P3'), ('734.csv', 'FP1 FP2 F3 F4 C3 C4 P3 P4 O1 O2 F7 F8 T3 T4 T5 T6 FZ PZ'), ('743.csv', 'FP1 FP2 F3 F4'), ('743.csv', 'F7 F8'), ('743.csv', 'FZ'), ('743.csv', 'FP1 FP2 F3 F4 C3 C4 P3 P4 O1 O2 F7 F8 T3 T4 T5 T6 FZ PZ CZ'), ('743.csv', 'FP1 FP2'), ('743.csv', 'F4'), ('743.csv', 'F8'), ('743.csv', 'FP1 FP2 F3 F4 C3'), ('744.csv', 'FP1 FP2 F3 F4 C3 C4 P3 P4 O1 O2 F7 F8 T3 T4 T5 T6 FZ PZ CZ'), ('744.csv', 'FP1 FP2 F3 F4'), ('744.csv', 'F7 F8'), ('744.csv', 'FZ'), ('744.csv', 'F3'), ('744.csv', 'C3 C4 P3 P4'), ('744.csv', 'FZ PZ CZ'), ('744.csv', 'F3 F4 C3 C4'), ('744.csv', 'C3'), ('744.csv', 'PZ CZ'), ('750.csv', 'FP1 FP2 F3 F4 C3 C4 P3 P4 O1 O2 F7 F8 T3 T4 T5 T6 FZ PZ CZ'), ('750.csv', 'FP1'), ('750.csv', 'F3'), ('750.csv', 'F7'), ('750.csv', 'FP1 FP2 F3 F4 C3 C4 P3 P4 O1 O2 F7 F8 T3 T4 T5 T6 FZ PZ CZ FP1'), ('753.csv', 'FP1 FP2 F3 F4 C3 C4 P3 P4 O1 O2 F7 F8 T3 T4 T5 T6 FZ PZ CZ'), ('753.csv', 'P3 P4 O1 O2 F7 F8 T3 T4 T5 T6 FZ PZ CZ'), ('753.csv', 'C4 P3 P4 O1 O2 F7 F8 T3 T4 T5 T6 FZ PZ CZ'), ('753.csv', 'FP1 FP2 F3 F4 C3 C4'), ('753.csv', 'F8 T3 T4 T5 T6 FZ PZ CZ'), ('753.csv', 'FP1 FP2 F3 F4 C3 C4 P3'), ('753.csv', 'F7 F8 T3 T4 T5 T6 FZ PZ CZ'), ('753.csv', 'O2 F7 F8 T3 T4 T5 T6 FZ PZ CZ'), ('753.csv', 'T6 FZ PZ CZ'), ('753.csv', 'T5 T6 FZ PZ CZ'), ('764.csv', 'FP1 FP2 F3 F4 C3 C4 P3 P4 O1 O2 F7 F8 T3 T4 T5 T6 FZ PZ CZ'), ('764.csv', 'FP1 FP2 F3 F4 C3 C4 P3 P4 O1 O2 F7'), ('764.csv', 'P3 P4 O1 O2 F7 F8 T3 T4 T5 T6 FZ PZ CZ'), ('764.csv', 'FP1 FP2 F3 F4 C3 C4 P3 P4 O1 O2 F7 F8 T3 T4 T5 T6 FZ PZ CZ FP1'), ('764.csv', 'FP1 FP2 F3 F4 C3 C4 P3 P4 O1 O2 F7 F8'), ('764.csv', 'FP1 FP2 F3 F4 C3 C4 P3 P4 O1 O2'), ('764.csv', 'FP1 FP2 F3 F4 C3 C4 P3 P4 O1 O2 F7 F8 T3 T4'), ('764.csv', 'FP1 FP2 F3 F4 C3'), ('764.csv', 'FP1 FP2 F3 F4 C3 C4 P3'), ('765.csv', 'FP1 FP2 F3 F4 C3 C4 P3 P4 O1 O2 F7 F8 T3 T4 T5 T6 FZ PZ CZ'), ('765.csv', 'O2'), ('765.csv', 'T6'), ('765.csv', 'O1 O2'), ('765.csv', 'FZ'), ('765.csv', 'FP1 FP2 F3 F4 C3 C4 P3 P4 O1 O2 F7 F8 T3 T4 T5 T6 FZ PZ CZ FP1'), ('765.csv', 'F3 F4 C3 C4 P3 P4 O1 O2 F7 F8 T3 T4 T5 T6 FZ'), ('765.csv', 'O1 O2 F7 F8 T3 T4 T5 T6 FZ PZ CZ'), ('765.csv', 'C4 P3 P4 O1 O2 F7 F8 T3 T4 T5 T6 FZ PZ CZ'), ('765.csv', 'FP1 FP2 F3 F4 C3 C4 P3 P4 O1 O2 F7 F8'), ('765.csv', 'F4 C3 C4 P3 P4 O1 O2 F7 F8 T3 T4 T5 T6 FZ PZ CZ'), ('765.csv', 'P4 O1 O2 F7 F8 T3 T4 T5 T6 FZ PZ CZ'), ('765.csv', 'F3'), ('765.csv', 'FP1 FP2 F3 F4 C3 C4 P3 P4 O1 O2 F7'), ('765.csv', 'F3 F4 C3 C4 P3 P4 O1 O2 F7 F8 T3 T4 T5 T6'), ('765.csv', 'FP2 F3 F4 C3 C4 P3 P4 O1 O2 F7 F8 T3 T4 T5 T6 FZ PZ CZ'), ('765.csv', 'T5 T6 FZ PZ CZ'), ('765.csv', 'T5'), ('765.csv', 'T5 T6 FZ PZ'), ('765.csv', 'C4'), ('765.csv', 'P4'), ('765.csv', 'T5 T6 FZ'), ('765.csv', 'O1 O2 F7'), ('765.csv', 'T5 T6'), ('765.csv', 'P3 P4 O1 O2 F7 F8 T3 T4 T5 T6 FZ PZ CZ'), ('765.csv', 'P4 O1 O2'), ('765.csv', 'T6 FZ PZ CZ'), ('765.csv', 'P3'), ('765.csv', 'O1'), ('765.csv', 'FP1 FP2 F3 F4 C3 C4 P3 P4 O1 O2 F7 F8 T3 T4'), ('765.csv', 'FP1 FP2 F3 F4 C3 C4 P3 P4 O1 O2 F7 F8 T3 T4 T5'), ('790.csv', 'F3'), ('790.csv', 'F7'), ('790.csv', 'C3'), ('790.csv', 'FZ'), ('8.csv', 'FP1 FP2 F3 F4 C3 C4 P3 P4 O1 O2 F7 F8 T3 T4 T5 T6 FZ PZ CZ'), ('827.csv', 'FP1 FP2 F3 F4 C3 C4 P3 P4 O1 O2 F7 F8 T3 T4 T5 T6 FZ PZ CZ'), ('828.csv', 'P4'), ('828.csv', 'O2'), ('828.csv', 'T6'), ('828.csv', 'P4 O1 O2'), ('828.csv', 'P3 P4 O1 O2'), ('828.csv', 'T5 T6 FZ PZ CZ'), ('828.csv', 'T5 T6'), ('828.csv', 'T5'), ('828.csv', 'O1 O2'), ('828.csv', 'P3 P4'), ('828.csv', 'P3'), ('828.csv', 'T4 T5 T6'), ('851.csv', 'FP1 FP2 F3 F4'), ('851.csv', 'F7 F8'), ('851.csv', 'FZ'), ('851.csv', 'F8'), ('851.csv', 'FP1 FP2'), ('851.csv', 'F4'), ('851.csv', 'FP2'), ('851.csv', 'FP1'), ('851.csv', 'F3'), ('851.csv', 'FP2 F3'), ('862.csv', 'P3'), ('862.csv', 'C3'), ('862.csv', 'F7'), ('862.csv', 'O1'), ('862.csv', 'F8'), ('864.csv', 'FP1 FP2 F3 F4 C3 C4 P3 P4 O1 O2 F7 F8 T3 T4 T5 T6 FZ PZ CZ'), ('864.csv', 'FP1 FP2 F3 F4'), ('864.csv', 'F7 F8'), ('864.csv', 'F8'), ('864.csv', 'FZ'), ('864.csv', 'FP1 FP2 F3'), ('864.csv', 'FP1'), ('864.csv', 'F7'), ('864.csv', 'FP1 FP2 F3 F4 C3 C4'), ('864.csv', 'FP1 FP2'), ('864.csv', 'F4'), ('864.csv', 'O1 O2 F7 F8'), ('864.csv', 'FP2'), ('864.csv', 'FP1 FP2 F3 F4 C3 C4 P3 P4 O1 O2 F7 F8'), ('864.csv', 'FZ PZ CZ'), ('873.csv', 'P4'), ('873.csv', 'O2'), ('873.csv', 'P3 P4'), ('875.csv', 'FP2'), ('875.csv', 'F4'), ('875.csv', 'FP1 FP2 F3 F4 C3 C4 P3 P4 O1 O2 F7 F8 T3 T4 T5 T6 FZ PZ CZ'), ('875.csv', 'F8'), ('875.csv', 'FZ'), ('875.csv', 'FP1 FP2 F3 F4 C3 C4 P3 P4'), ('875.csv', 'F7 F8'), ('875.csv', 'FZ PZ CZ'), ('875.csv', 'FP1 FP2 F3 F4'), ('884.csv', 'FP1 FP2 F3 F4 C3 C4 P3 P4 O1 O2 F7 F8 T3 T4 T5 T6 FZ PZ CZ'), ('884.csv', 'FP1 FP2 F3 F4 C3 C4 P3 P4 O1 O2 F7 F8 T3'), ('884.csv', 'FP1 FP2 F3 F4 C3 C4 P3 P4 O1 O2 F7 F8 T3 T4 T5 T6 FZ PZ CZ '), ('884.csv', 'FP1 FP2 F3 F4 C3 C4 P3 P4 O1 O2 F7 F8 T3 T4 T5 T6 FZ'), ('893.csv', 'FP1 FP2 F3 F4 C3 C4 P3 P4 O1 O2 F7 F8 T3 T4 T5 T6 FZ PZ CZ'), ('893.csv', 'FP1'), ('893.csv', 'F3'), ('893.csv', 'C3'), ('893.csv', 'FZ'), ('893.csv', 'CZ'), ('893.csv', 'F3 F4 C3 C4 P3 P4 O1 O2 F7 F8 T3 T4 T5 T6 FZ PZ CZ'), ('893.csv', 'FP1 FP2 F3'), ('893.csv', 'P3'), ('893.csv', 'FP1 FP2 F3 F4'), ('893.csv', 'FP1 FP2 F3 F4 C3 C4'), ('893.csv', 'F7'), ('893.csv', 'FP2 F3 F4 C3 C4 P3 P4 O1 O2 F7 F8 T3 T4 T5 T6 FZ PZ CZ'), ('893.csv', 'T3'), ('908.csv', 'FP1 FP2 F3 F4 C3 C4 P3 P4 O1 O2 F7 F8 T3 T4 T5 T6 FZ PZ CZ'), ('908.csv', 'FP1 FP2 F3'), ('908.csv', 'F7'), ('919.csv', 'FP1 FP2 F3 F4 C3 C4 P3 P4 O1 O2 F7 F8 T3 T4 T5 T6 FZ PZ CZ'), ('925.csv', 'FP1 FP2 F3 F4 C3 C4 P3 P4 O1 O2 F7 F8 T3 T4 T5 T6 FZ PZ CZ'), ('925.csv', 'F4 C3 C4 P3 P4 O1 O2 F7 F8 T3 T4 T5 T6 FZ PZ CZ'), ('925.csv', 'FP1 FP2 F3 F4 C3 C4 P3 P4 O1 O2 F7 F8 T3 T4 T5 T6 FZ PZ CZ FP1'), ('926.csv', 'FP1 FP2 F3 F4'), ('926.csv', 'FZ'), ('926.csv', 'F7 F8'), ('926.csv', 'F8'), ('940.csv', 'FP1 FP2 F3 F4 C3 C4 P3 P4 O1 O2 F7 F8 T3 T4 T5 T6 FZ PZ CZ'), ('948.csv', 'FP1 FP2 F3 F4 C3 C4 P3 P4 O1 O2 F7 F8 T3 T4 T5 T6 FZ PZ CZ'), ('951.csv', 'FP1 FP2 F3 F4 C3 C4 P3 P4 O1 O2 F7 F8 T3 T4 T5 T6 FZ PZ CZ'), ('951.csv', 'FP1 FP2 F3 F4 C3 C4 P3 P4 O1 O2 F7 F8 T3 T4 T5 T6 FZ PZ CZ FP1'), ('951.csv', 'FP1 FP2 F3 F4'), ('951.csv', 'F7 F8'), ('951.csv', 'FZ'), ('952.csv', 'FP1 FP2 F3 F4'), ('952.csv', 'FZ'), ('952.csv', 'FP1 FP2 F3 F4 C3 C4 P3 P4 O1 O2 F7 F8 T3 T4 T5 T6 FZ PZ CZ'), ('952.csv', 'F7 F8'), ('956.csv', 'FP1 FP2 F3 F4 C3 C4 P3 P4 O1 O2 F7 F8 T3 T4 T5 T6 FZ PZ CZ'), ('956.csv', 'FP1 FP2 F3 F4'), ('956.csv', 'T5 T6 FZ PZ CZ'), ('964.csv', 'FP1 FP2 F3 F4 C3 C4 P3 P4 O1 O2 F7 F8 T3 T4 T5 T6 FZ PZ CZ'), ('964.csv', 'F4 C3 C4 P3 P4 O1 O2 F7 F8 T3 T4 T5 T6 FZ PZ CZ'), ('964.csv', 'FP1 FP2 F3 F4 C3 C4 P3 P4 O1 O2'), ('964.csv', 'FP1 FP2 F3 F4 C3 C4 P3 P4 O1 O2 F7 F8 T3 T4 T5 T6 FZ PZ CZ FP1'), ('964.csv', 'F3 F4 C3 C4 P3 P4 O1 O2 F7 F8 T3 T4 T5 T6 FZ PZ CZ'), ('964.csv', 'FP1 FP2 F3 F4 C3 C4 P3 P4 O1 O2 F7 F8 T3'), ('964.csv', 'FP1 FP2 F3 F4 C3 C4 P3 P4 O1 O2 F7 F8 T3 T4 T5 T6'), ('964.csv', 'F7 F8 T3 T4 T5 T6 FZ PZ CZ'), ('964.csv', 'O2 F7 F8 T3 T4 T5 T6 FZ PZ CZ'), ('964.csv', 'F8 T3 T4 T5 T6 FZ PZ CZ'), ('964.csv', 'P4 O1 O2 F7 F8 T3 T4 T5 T6 FZ PZ CZ'), ('964.csv', 'FP1 FP2 F3 F4 C3 C4 P3 P4 O1 O2 F7 F8 T3 T4 T5'), ('964.csv', 'F7 F8 T3 T4 T5'), ('964.csv', 'P4 O1 O2 F7 F8 T3 T4 T5 T6'), ('964.csv', 'P3 P4 O1 O2 F7 F8 T3 T4 T5 T6'), ('964.csv', 'O1 O2 F7 F8 T3 T4 T5 T6 FZ PZ CZ'), ('964.csv', 'F4 C3 C4 P3 P4 O1 O2 F7 F8 T3 T4 T5 T6'), ('964.csv', 'C3 C4 P3 P4 O1 O2 F7 F8 T3 T4 T5 T6 FZ PZ CZ'), ('964.csv', 'O1 O2 F7 F8 T3 T4 T5 T6'), ('964.csv', 'F4 C3 C4 P3 P4 O1 O2'), ('964.csv', 'P3 P4 O1 O2 F7 F8 T3 T4 T5 T6 FZ PZ CZ'), ('964.csv', 'C3 C4 P3 P4 O1'), ('964.csv', 'FP1 FP2 F3 F4 C3 C4 P3 P4 O1 O2 F7 F8'), ('965.csv', 'FP1 FP2 F3 F4 C3 C4 P3 P4 O1 O2 F7 F8 T3 T4 T5 T6 FZ PZ CZ'), ('993.csv', 'FP1 FP2 F3 F4 C3 C4 P3 P4 O1 O2 F7 F8 T3 T4 T5 T6 FZ PZ CZ'), ('993.csv', 'P4 O1 O2 F7 F8 T3 T4 T5 T6 FZ PZ CZ'), ('993.csv', 'O2 F7 F8 T3 T4 T5 T6 FZ PZ CZ'), ('993.csv', 'F3'), ('993.csv', 'C4'), ('993.csv', 'FZ PZ CZ'), ('993.csv', 'F4'), ('993.csv', 'FP2'), ('993.csv', 'FZ'), ('993.csv', 'FP1 FP2 F3 F4 C3 C4 P3 P4 O1 O2 F7 F8 T3 T4 T5 T6 FZ PZ CZ FP1'), ('993.csv', 'C3'), ('993.csv', 'F4 C3 C4 P3 P4'), ('993.csv', 'PZ CZ'), ('993.csv', 'F4 C3 C4 P3'), ('993.csv', 'P3 P4'), ('993.csv', 'PZ')]\u001b[0m\u001b[32;1m\u001b[1;3mI now know the final answer\n",
      "\n",
      "Final Answer: The channel names in which the event occurs are FP1, FP2, F3, F4, C3, C4, P3, P4, O1, O2, F7, F8, T3, T4, T5, T6, FZ, PZ, and CZ.\u001b[0m\n",
      "\n",
      "\u001b[1m> Finished chain.\u001b[0m\n"
     ]
    }
   ],
   "source": [
    "root.mainloop()"
   ]
  }
 ],
 "metadata": {
  "kernelspec": {
   "display_name": "Python 3",
   "language": "python",
   "name": "python3"
  },
  "language_info": {
   "codemirror_mode": {
    "name": "ipython",
    "version": 3
   },
   "file_extension": ".py",
   "mimetype": "text/x-python",
   "name": "python",
   "nbconvert_exporter": "python",
   "pygments_lexer": "ipython3",
   "version": "3.12.4"
  },
  "orig_nbformat": 4,
  "vscode": {
   "interpreter": {
    "hash": "3fcbd7240ee8f908d933dc7f71e8c42a1a91163b70ede8dcff5146d4087436c7"
   }
  }
 },
 "nbformat": 4,
 "nbformat_minor": 2
}
