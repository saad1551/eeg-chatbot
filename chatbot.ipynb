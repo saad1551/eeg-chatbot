{
 "cells": [
  {
   "cell_type": "code",
   "execution_count": 73,
   "metadata": {},
   "outputs": [],
   "source": [
    "import os\n",
    "import csv\n",
    "from langchain_community.vectorstores import Chroma\n",
    "from langchain_text_splitters import CharacterTextSplitter\n",
    "from langchain_ai21 import AI21Embeddings\n",
    "from langchain_community.docstore.document import Document\n",
    "from langchain_community.vectorstores import Chroma\n",
    "from langchain_community.utilities import SQLDatabase\n",
    "from sqlalchemy import create_engine\n",
    "from langchain.chains.query_constructor.base import AttributeInfo\n",
    "from langchain.retrievers.self_query.base import SelfQueryRetriever\n",
    "from langchain_google_genai import ChatGoogleGenerativeAI\n",
    "from langchain.prompts import PromptTemplate\n",
    "from langchain.chains import RetrievalQA\n",
    "from langchain.memory import ConversationBufferMemory\n",
    "from langchain.chains import ConversationalRetrievalChain\n",
    "from langchain_community.agent_toolkits.sql.base import create_sql_agent\n",
    "from langchain_ai21 import AI21LLM\n",
    "from langchain_openai import ChatOpenAI\n",
    "import pandas as pd\n",
    "from langchain_nvidia_ai_endpoints import ChatNVIDIA\n",
    "from langchain_huggingface import HuggingFaceEndpoint\n",
    "from langchain_community.agent_toolkits.sql.toolkit import SQLDatabaseToolkit\n",
    "from langchain.agents import AgentExecutor\n",
    "from langchain_fireworks import ChatFireworks\n",
    "from langchain.prompts import PromptTemplate\n",
    "from langchain_core.prompts.base import BasePromptTemplate\n",
    "from math import isnan\n",
    "import config"
   ]
  },
  {
   "cell_type": "code",
   "execution_count": 74,
   "metadata": {},
   "outputs": [],
   "source": [
    "os.environ[\"AI21_API_KEY\"] = config.AI21_API_KEY\n",
    "os.environ[\"GOOGLE_API_KEY\"] = config.GOOGLE_API_KEY\n",
    "os.environ[\"OPENAI_API_KEY\"] = config.OPENAI_API_KEY\n",
    "os.environ[\"NVIDIA_API_KEY\"] = config.NVIDIA_API_KEY\n",
    "os.environ[\"HUGGINGFACEHUB_API_TOKEN\"] = config.HUGGINGFACEHUB_API_TOKEN\n",
    "os.environ[\"FIREWORKS_API_KEY\"] = config.FIREWORKS_API_KEY"
   ]
  },
  {
   "cell_type": "code",
   "execution_count": 3,
   "metadata": {},
   "outputs": [],
   "source": [
    "columns_to_metadata = [\"Gender\", \"Age\", \"File Start\", \"Start time\", \"End time\", \"Channel names\", \"Comment\"]"
   ]
  },
  {
   "cell_type": "code",
   "execution_count": 4,
   "metadata": {},
   "outputs": [],
   "source": [
    "csv_files = os.listdir(\"./csv\")"
   ]
  },
  {
   "cell_type": "code",
   "execution_count": 5,
   "metadata": {},
   "outputs": [],
   "source": [
    "dataframe = []\n",
    "\n",
    "for csv_file in csv_files:\n",
    "    df = pd.read_csv(os.path.join(\"./csv\", csv_file))\n",
    "    for index, row in df.iterrows():\n",
    "        if type(row[\"Gender\"]) == str:\n",
    "            gender = row[\"Gender\"]\n",
    "        else:\n",
    "            row[\"Gender\"] = gender \n",
    "\n",
    "        if type(row[\"Age\"]) == str:\n",
    "            age = row[\"Age\"]\n",
    "        else:\n",
    "            row[\"Age\"] = age \n",
    "        \n",
    "        if type(row[\"File Start\"]) == str:\n",
    "            file_start = row[\"File Start\"]\n",
    "            del row[\"File Start\"]\n",
    "            row[\"file_start\"] = file_start\n",
    "        else:\n",
    "            row[\"file_start\"] = file_start\n",
    "            del row['File Start']\n",
    "\n",
    "        row['start_time'] = row['Start time']\n",
    "        del row['Start time']\n",
    "\n",
    "        row['end_time'] = row['End time']\n",
    "        del row['End time']\n",
    "\n",
    "        row['channel_names'] = row['Channel names']\n",
    "        del row['Channel names']\n",
    "\n",
    "        row['file_name'] = csv_file\n",
    "\n",
    "        dataframe.append(row)\n",
    "\n",
    "df = pd.DataFrame(dataframe)"
   ]
  },
  {
   "cell_type": "code",
   "execution_count": 6,
   "metadata": {},
   "outputs": [
    {
     "data": {
      "text/html": [
       "<div>\n",
       "<style scoped>\n",
       "    .dataframe tbody tr th:only-of-type {\n",
       "        vertical-align: middle;\n",
       "    }\n",
       "\n",
       "    .dataframe tbody tr th {\n",
       "        vertical-align: top;\n",
       "    }\n",
       "\n",
       "    .dataframe thead th {\n",
       "        text-align: right;\n",
       "    }\n",
       "</style>\n",
       "<table border=\"1\" class=\"dataframe\">\n",
       "  <thead>\n",
       "    <tr style=\"text-align: right;\">\n",
       "      <th></th>\n",
       "      <th>Gender</th>\n",
       "      <th>Age</th>\n",
       "      <th>Comment</th>\n",
       "      <th>file_start</th>\n",
       "      <th>start_time</th>\n",
       "      <th>end_time</th>\n",
       "      <th>channel_names</th>\n",
       "      <th>file_name</th>\n",
       "    </tr>\n",
       "  </thead>\n",
       "  <tbody>\n",
       "    <tr>\n",
       "      <th>0</th>\n",
       "      <td>Male</td>\n",
       "      <td>12 years</td>\n",
       "      <td>spike and wave</td>\n",
       "      <td>13:10:31</td>\n",
       "      <td>13:11:36:739</td>\n",
       "      <td>13:11:38:478</td>\n",
       "      <td>FP1 FP2 F3 F4 C3 C4 P3 P4 O1 O2 F7 F8 T3 T4 T5...</td>\n",
       "      <td>1004.csv</td>\n",
       "    </tr>\n",
       "    <tr>\n",
       "      <th>1</th>\n",
       "      <td>Male</td>\n",
       "      <td>12 years</td>\n",
       "      <td>spike and wave</td>\n",
       "      <td>13:10:31</td>\n",
       "      <td>13:14:29:034</td>\n",
       "      <td>13:14:31</td>\n",
       "      <td>FP1 FP2 F3 F4 C3 C4 P3 P4 O1 O2 F7 F8 T3 T4 T5...</td>\n",
       "      <td>1004.csv</td>\n",
       "    </tr>\n",
       "    <tr>\n",
       "      <th>2</th>\n",
       "      <td>Male</td>\n",
       "      <td>12 years</td>\n",
       "      <td>spike and wave</td>\n",
       "      <td>13:10:31</td>\n",
       "      <td>13:16:20</td>\n",
       "      <td>13:16:21:982</td>\n",
       "      <td>FP1 FP2 F3 F4 C3 C4 P3 P4 O1 O2 F7 F8 T3 T4 T5...</td>\n",
       "      <td>1004.csv</td>\n",
       "    </tr>\n",
       "    <tr>\n",
       "      <th>3</th>\n",
       "      <td>Male</td>\n",
       "      <td>12 years</td>\n",
       "      <td>spike and wave</td>\n",
       "      <td>13:10:31</td>\n",
       "      <td>13:17:19:034</td>\n",
       "      <td>13:17:19:965</td>\n",
       "      <td>FP1 FP2 F3 F4 C3 C4 P3 P4 O1 O2 F7 F8 T3 T4 T5...</td>\n",
       "      <td>1004.csv</td>\n",
       "    </tr>\n",
       "    <tr>\n",
       "      <th>4</th>\n",
       "      <td>Male</td>\n",
       "      <td>12 years</td>\n",
       "      <td>spike and wave</td>\n",
       "      <td>13:10:31</td>\n",
       "      <td>13:17:51:026</td>\n",
       "      <td>13:17:53:295</td>\n",
       "      <td>FP1 FP2 F3 F4 C3 C4 P3 P4 O1 O2 F7 F8 T3 T4 T5...</td>\n",
       "      <td>1004.csv</td>\n",
       "    </tr>\n",
       "  </tbody>\n",
       "</table>\n",
       "</div>"
      ],
      "text/plain": [
       "  Gender       Age         Comment file_start    start_time      end_time  \\\n",
       "0   Male  12 years  spike and wave   13:10:31  13:11:36:739  13:11:38:478   \n",
       "1   Male  12 years  spike and wave   13:10:31  13:14:29:034      13:14:31   \n",
       "2   Male  12 years  spike and wave   13:10:31      13:16:20  13:16:21:982   \n",
       "3   Male  12 years  spike and wave   13:10:31  13:17:19:034  13:17:19:965   \n",
       "4   Male  12 years  spike and wave   13:10:31  13:17:51:026  13:17:53:295   \n",
       "\n",
       "                                       channel_names file_name  \n",
       "0  FP1 FP2 F3 F4 C3 C4 P3 P4 O1 O2 F7 F8 T3 T4 T5...  1004.csv  \n",
       "1  FP1 FP2 F3 F4 C3 C4 P3 P4 O1 O2 F7 F8 T3 T4 T5...  1004.csv  \n",
       "2  FP1 FP2 F3 F4 C3 C4 P3 P4 O1 O2 F7 F8 T3 T4 T5...  1004.csv  \n",
       "3  FP1 FP2 F3 F4 C3 C4 P3 P4 O1 O2 F7 F8 T3 T4 T5...  1004.csv  \n",
       "4  FP1 FP2 F3 F4 C3 C4 P3 P4 O1 O2 F7 F8 T3 T4 T5...  1004.csv  "
      ]
     },
     "execution_count": 6,
     "metadata": {},
     "output_type": "execute_result"
    }
   ],
   "source": [
    "df.head()"
   ]
  },
  {
   "cell_type": "code",
   "execution_count": 7,
   "metadata": {},
   "outputs": [
    {
     "data": {
      "text/plain": [
       "9893"
      ]
     },
     "execution_count": 7,
     "metadata": {},
     "output_type": "execute_result"
    }
   ],
   "source": [
    "engine = create_engine(\"sqlite:///eeg.db\")\n",
    "df.to_sql(\"eeg\", engine, index=False)"
   ]
  },
  {
   "cell_type": "code",
   "execution_count": 8,
   "metadata": {},
   "outputs": [
    {
     "name": "stdout",
     "output_type": "stream",
     "text": [
      "sqlite\n",
      "['eeg']\n"
     ]
    },
    {
     "data": {
      "text/plain": [
       "\"[('Male', '12 years', 'spike and wave', '13:10:31', '13:14:29:034', '13:14:31', 'FP1 FP2 F3 F4 C3 C4 P3 P4 O1 O2 F7 F8 T3 T4 T5 T6 FZ PZ CZ', '1004.csv')]\""
      ]
     },
     "execution_count": 8,
     "metadata": {},
     "output_type": "execute_result"
    }
   ],
   "source": [
    "db = SQLDatabase(engine=engine)\n",
    "print(db.dialect)\n",
    "print(db.get_usable_table_names())\n",
    "db.run(\"SELECT * FROM eeg WHERE start_time == '13:14:29:034';\")"
   ]
  },
  {
   "cell_type": "code",
   "execution_count": 90,
   "metadata": {},
   "outputs": [],
   "source": [
    "llm = ChatGoogleGenerativeAI(model=\"gemini-1.5-pro-latest\")"
   ]
  },
  {
   "cell_type": "code",
   "execution_count": 17,
   "metadata": {},
   "outputs": [],
   "source": [
    "llm = AI21LLM(model=\"j2-ultra\")"
   ]
  },
  {
   "cell_type": "code",
   "execution_count": 88,
   "metadata": {},
   "outputs": [],
   "source": [
    "llm = ChatOpenAI(model=\"gpt-3.5-turbo\", temperature=0)\n"
   ]
  },
  {
   "cell_type": "code",
   "execution_count": 28,
   "metadata": {},
   "outputs": [],
   "source": [
    "llm = ChatNVIDIA(model=\"meta/llama3-70b-instruct\")"
   ]
  },
  {
   "cell_type": "code",
   "execution_count": null,
   "metadata": {},
   "outputs": [],
   "source": [
    "llm=HuggingFaceEndpoint(repo_id=\"google/flan-t5-xxl\")\n"
   ]
  },
  {
   "cell_type": "code",
   "execution_count": 9,
   "metadata": {},
   "outputs": [],
   "source": [
    "llm = ChatFireworks(model=\"accounts/fireworks/models/llama-v3p1-70b-instruct\")"
   ]
  },
  {
   "cell_type": "code",
   "execution_count": 10,
   "metadata": {},
   "outputs": [],
   "source": [
    "toolkit = SQLDatabaseToolkit(db=db, llm=llm)"
   ]
  },
  {
   "cell_type": "code",
   "execution_count": 11,
   "metadata": {},
   "outputs": [],
   "source": [
    "tools = toolkit.get_tools()"
   ]
  },
  {
   "cell_type": "code",
   "execution_count": 62,
   "metadata": {},
   "outputs": [],
   "source": [
    "default_prompt = \"You are database agent to help write queries and return answers. The table that we are concerned with is eeg and it contains records of csv files comprising of eeg recordings of different patients. Each file is characterized the by the file_name column and a file can have multiple entries in the database table. But in all of those entries of a single fie, the gender, age and file_start columns will have the same value because the recording is of the same patient. Each patient is characterized by their gender and age. An event is a single entry (row) in the database and can only belong to one file but a file can contain multiple events. An event begins at start_time and ends at end_time. Comment shows the type of the event and channel names show the channels in which the event was observed. If there are multiple names in the channel_names column but one of them is 'FP1' then its safe to say that the event was observed in FP1, same goes for all other channels. The age attribute is not an integer so you can't do comparisons straightaway instead you will have to manipulate the column to get the age value and then compare. If a file is referred to by only an integer, you should assume that .csv is there in the extension of the file name. The timestamps are strings, so to compare them in terms of hour, minute, or seconds, or milliseconds, or as a whole, you should take information from them accordingly, and for comparison you should cast them to integers. They are in the format hh:mm:ss:ms. Unless very necessary, you should not use LIMIT in your queries, especially when the results ask for 'all'. When asked for file names or instances, you should almost always use DISTINCT in your queries with file_name because a file can contain more than one entries and may appear more than once in the database\""
   ]
  },
  {
   "cell_type": "code",
   "execution_count": 69,
   "metadata": {},
   "outputs": [],
   "source": [
    "default_prompt = \"You are a database agent for writing queries and returning answers. The table is eeg, containing CSV records of EEG recordings from different patients. Each file (identified by file_name) can have multiple entries with consistent gender, age, and file_start values. Events are single entries with a start_time, end_time, comment, and channel_names. If channel_names includes 'FP1', it implies the event was observed in FP1, and similarly for other channels. age is a non-integer string requiring conversion for comparisons. Subjects are characterized by age and gender, not filenames. File names referred to by an integer should be assumed to have a .csv extension. Timestamps in hh:mm:ss:ms format need to be cast to integers for comparisons. Use DISTINCT with file_name to handle files with multiple entries. Avoid using LIMIT unless absolutely necessary.\""
   ]
  },
  {
   "cell_type": "code",
   "execution_count": null,
   "metadata": {},
   "outputs": [],
   "source": [
    "prompt_template = BasePromptTemplate(\n",
    "    template=(\n",
    "        default_prompt + \"\\n\\n\"\n",
    "        \"Available tools: {tools}\\n\\n\"\n",
    "        \"Available tools: {tool_names}\\n\\n\"\n",
    "        \"{agent_scratchpad}\\n\\n\"\n",
    "        \"Question: {input}\\n\\n\"\n",
    "        \"Answer:\"\n",
    "    ),\n",
    "    input_variables=[\"input\", \"tools\", \"tool_names\", \"agent_scratchpad\"]\n",
    ")"
   ]
  },
  {
   "cell_type": "code",
   "execution_count": 39,
   "metadata": {},
   "outputs": [],
   "source": [
    "agent = create_sql_agent(llm, db=db, agent_type = 'zero-shot-react-description', verbose=True, handle_parsing_errors = True)"
   ]
  },
  {
   "cell_type": "code",
   "execution_count": 67,
   "metadata": {},
   "outputs": [],
   "source": [
    "query = \"Name all the subjects of the recordings\""
   ]
  },
  {
   "cell_type": "code",
   "execution_count": 71,
   "metadata": {},
   "outputs": [
    {
     "name": "stdout",
     "output_type": "stream",
     "text": [
      "\n",
      "\n",
      "\u001b[1m> Entering new SQL Agent Executor chain...\u001b[0m\n",
      "\u001b[32;1m\u001b[1;3mThought: I should look at the tables in the database to see what I can query.  Then I should query the schema of the most relevant tables.\n",
      "Action: sql_db_list_tables\n",
      "Action Input: \u001b[0m\u001b[38;5;200m\u001b[1;3meeg\u001b[0m\u001b[32;1m\u001b[1;3mAction: sql_db_schema\n",
      "Action Input: eeg\u001b[0m\u001b[33;1m\u001b[1;3m\n",
      "CREATE TABLE eeg (\n",
      "\t\"Gender\" TEXT, \n",
      "\t\"Age\" TEXT, \n",
      "\t\"Comment\" TEXT, \n",
      "\tfile_start TEXT, \n",
      "\tstart_time TEXT, \n",
      "\tend_time TEXT, \n",
      "\tchannel_names TEXT, \n",
      "\tfile_name TEXT\n",
      ")\n",
      "\n",
      "/*\n",
      "3 rows from eeg table:\n",
      "Gender\tAge\tComment\tfile_start\tstart_time\tend_time\tchannel_names\tfile_name\n",
      "Male\t12 years\tspike and wave\t13:10:31\t13:11:36:739\t13:11:38:478\tFP1 FP2 F3 F4 C3 C4 P3 P4 O1 O2 F7 F8 T3 T4 T5 T6 FZ PZ CZ\t1004.csv\n",
      "Male\t12 years\tspike and wave\t13:10:31\t13:14:29:034\t13:14:31\tFP1 FP2 F3 F4 C3 C4 P3 P4 O1 O2 F7 F8 T3 T4 T5 T6 FZ PZ CZ\t1004.csv\n",
      "Male\t12 years\tspike and wave\t13:10:31\t13:16:20\t13:16:21:982\tFP1 FP2 F3 F4 C3 C4 P3 P4 O1 O2 F7 F8 T3 T4 T5 T6 FZ PZ CZ\t1004.csv\n",
      "*/\u001b[0m\u001b[32;1m\u001b[1;3mThought: I now have the schema of the eeg table. I can see that the table contains columns for Gender and Age, which are relevant to the question. I will query the database to get the distinct combinations of Gender and Age.\n",
      "\n",
      "Action: sql_db_query_checker\n",
      "Action Input: SELECT DISTINCT Gender, Age FROM eeg\u001b[0m\u001b[36;1m\u001b[1;3mSELECT DISTINCT Gender, Age FROM eeg\u001b[0m\u001b[32;1m\u001b[1;3mAction: sql_db_query\n",
      "Action Input: SELECT DISTINCT Gender, Age FROM eeg\u001b[0m\u001b[36;1m\u001b[1;3m[('Male', '12 years'), ('Female', '11 years'), ('Male', '1 year'), ('Male', '17 Years'), ('Male', '22 years'), ('Female', '23 years'), ('Male', '3 years'), ('Male', '8 years'), ('Female', '18 years'), ('Male', '11 years'), ('Male', '10 years'), ('Male', '42 years'), ('Male', '15 years'), ('Male', '35 years'), ('Female', '67 years'), ('Female ', '5 years'), ('Female', '28 years'), ('Male', '3.5 years'), ('Male', '7 years'), ('Male', '21 years'), ('Female', '16 years'), ('Male', '5 years'), ('Male', '6 years'), ('Female', '28 Years'), ('Male', '17 years'), ('Male', '14 years'), ('Male', '45 years'), ('Male', '46 years'), ('Female', '1 year'), ('Male', '2 years'), ('Male', '4.5 Years'), ('Male', '39 years'), ('Male', '31 years'), ('Female', '44 years'), ('Female', '50 years'), ('Female', '7 years'), ('Female', '5 years'), ('Female', '5.5 years'), ('Male', '4 years'), ('Female', '13 years'), ('Male', '10 Years'), ('Female', '8 Months'), ('Female', '17 years'), ('Female', '14 years'), ('Male', '27 years'), ('Male', '23 years'), ('Female', '10 years'), ('Male', '61 years'), ('Male', '55 years'), ('Male', '29 years'), ('Female', '16 Years'), ('Male', '30 years'), ('Male', '29  years'), ('Female', '12 years'), ('Female', '15 years'), ('Male', '13 years'), ('Male', '70 years'), ('Male', '2.5 years'), ('Female', '6 years'), ('Male', '18 years'), ('Male', '50 years'), ('Male ', '61 years'), ('Male', '6.5 years'), ('Male', '25 years')]\u001b[0m\u001b[32;1m\u001b[1;3mThought: I now know the final answer\n",
      "Final Answer: The subjects of the recordings are: \n",
      "('Male', '12 years'), \n",
      "('Female', '11 years'), \n",
      "('Male', '1 year'), \n",
      "('Male', '17 Years'), \n",
      "('Male', '22 years'), \n",
      "('Female', '23 years'), \n",
      "('Male', '3 years'), \n",
      "('Male', '8 years'), \n",
      "('Female', '18 years'), \n",
      "('Male', '11 years'), \n",
      "('Male', '10 years'), \n",
      "('Male', '42 years'), \n",
      "('Male', '15 years'), \n",
      "('Male', '35 years'), \n",
      "('Female', '67 years'), \n",
      "('Female ', '5 years'), \n",
      "('Female', '28 years'), \n",
      "('Male', '3.5 years'), \n",
      "('Male', '7 years'), \n",
      "('Male', '21 years'), \n",
      "('Female', '16 years'), \n",
      "('Male', '5 years'), \n",
      "('Male', '6 years'), \n",
      "('Female', '28 Years'), \n",
      "('Male', '17 years'), \n",
      "('Male', '14 years'), \n",
      "('Male', '45 years'), \n",
      "('Male', '46 years'), \n",
      "('Female', '1 year'), \n",
      "('Male', '2 years'), \n",
      "('Male', '4.5 Years'), \n",
      "('Male', '39 years'), \n",
      "('Male', '31 years'), \n",
      "('Female', '44 years'), \n",
      "('Female', '50 years'), \n",
      "('Female', '7 years'), \n",
      "('Female', '5 years'), \n",
      "('Female', '5.5 years'), \n",
      "('Male', '4 years'), \n",
      "('Female', '13 years'), \n",
      "('Male', '10 Years'), \n",
      "('Female', '8 Months'), \n",
      "('Female', '17 years'), \n",
      "('Female', '14 years'), \n",
      "('Male', '27 years'), \n",
      "('Male', '23 years'), \n",
      "('Female', '10 years'), \n",
      "('Male', '61 years'), \n",
      "('Male', '55 years'), \n",
      "('Male', '29 years'), \n",
      "('Female', '16 Years'), \n",
      "('Male', '30 years'), \n",
      "('Male', '29  years'), \n",
      "('Female', '12 years'), \n",
      "('Female', '15 years'), \n",
      "('Male', '13 years'), \n",
      "('Male', '70 years'), \n",
      "('Male', '2.5 years'), \n",
      "('Female', '6 years'), \n",
      "('Male', '18 years'), \n",
      "('Male', '50 years'), \n",
      "('Male ', '61 years'), \n",
      "('Male', '6.5 years'), \n",
      "('Male', '25 years')\u001b[0m\n",
      "\n",
      "\u001b[1m> Finished chain.\u001b[0m\n"
     ]
    },
    {
     "data": {
      "text/plain": [
       "\"The subjects of the recordings are: \\n('Male', '12 years'), \\n('Female', '11 years'), \\n('Male', '1 year'), \\n('Male', '17 Years'), \\n('Male', '22 years'), \\n('Female', '23 years'), \\n('Male', '3 years'), \\n('Male', '8 years'), \\n('Female', '18 years'), \\n('Male', '11 years'), \\n('Male', '10 years'), \\n('Male', '42 years'), \\n('Male', '15 years'), \\n('Male', '35 years'), \\n('Female', '67 years'), \\n('Female ', '5 years'), \\n('Female', '28 years'), \\n('Male', '3.5 years'), \\n('Male', '7 years'), \\n('Male', '21 years'), \\n('Female', '16 years'), \\n('Male', '5 years'), \\n('Male', '6 years'), \\n('Female', '28 Years'), \\n('Male', '17 years'), \\n('Male', '14 years'), \\n('Male', '45 years'), \\n('Male', '46 years'), \\n('Female', '1 year'), \\n('Male', '2 years'), \\n('Male', '4.5 Years'), \\n('Male', '39 years'), \\n('Male', '31 years'), \\n('Female', '44 years'), \\n('Female', '50 years'), \\n('Female', '7 years'), \\n('Female', '5 years'), \\n('Female', '5.5 years'), \\n('Male', '4 years'), \\n('Female', '13 years'), \\n('Male', '10 Years'), \\n('Female', '8 Months'), \\n('Female', '17 years'), \\n('Female', '14 years'), \\n('Male', '27 years'), \\n('Male', '23 years'), \\n('Female', '10 years'), \\n('Male', '61 years'), \\n('Male', '55 years'), \\n('Male', '29 years'), \\n('Female', '16 Years'), \\n('Male', '30 years'), \\n('Male', '29  years'), \\n('Female', '12 years'), \\n('Female', '15 years'), \\n('Male', '13 years'), \\n('Male', '70 years'), \\n('Male', '2.5 years'), \\n('Female', '6 years'), \\n('Male', '18 years'), \\n('Male', '50 years'), \\n('Male ', '61 years'), \\n('Male', '6.5 years'), \\n('Male', '25 years')\""
      ]
     },
     "execution_count": 71,
     "metadata": {},
     "output_type": "execute_result"
    }
   ],
   "source": [
    "result = agent.invoke({\"input\": f\"{default_prompt} query: {query}\"})\n",
    "result[\"output\"]"
   ]
  },
  {
   "cell_type": "code",
   "execution_count": null,
   "metadata": {},
   "outputs": [],
   "source": []
  }
 ],
 "metadata": {
  "kernelspec": {
   "display_name": "Python 3",
   "language": "python",
   "name": "python3"
  },
  "language_info": {
   "codemirror_mode": {
    "name": "ipython",
    "version": 3
   },
   "file_extension": ".py",
   "mimetype": "text/x-python",
   "name": "python",
   "nbconvert_exporter": "python",
   "pygments_lexer": "ipython3",
   "version": "3.12.4"
  },
  "orig_nbformat": 4,
  "vscode": {
   "interpreter": {
    "hash": "3fcbd7240ee8f908d933dc7f71e8c42a1a91163b70ede8dcff5146d4087436c7"
   }
  }
 },
 "nbformat": 4,
 "nbformat_minor": 2
}
