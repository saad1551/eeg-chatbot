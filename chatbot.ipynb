{
 "cells": [
  {
   "cell_type": "code",
   "execution_count": 78,
   "metadata": {},
   "outputs": [],
   "source": [
    "import os\n",
    "from langchain_community.utilities import SQLDatabase\n",
    "from sqlalchemy import create_engine\n",
    "from langchain_community.agent_toolkits.sql.base import create_sql_agent\n",
    "import pandas as pd\n",
    "from langchain_community.chat_message_histories import RedisChatMessageHistory\n",
    "from langchain_fireworks import ChatFireworks\n",
    "from langchain.prompts import PromptTemplate\n",
    "from langchain_core.runnables.history import RunnableWithMessageHistory\n",
    "from langchain.memory import ChatMessageHistory\n",
    "from langchain_core.prompts import ChatPromptTemplate\n",
    "import tkinter as tk\n",
    "from tkinter import scrolledtext, messagebox\n",
    "from langchain.memory import ConversationBufferMemory\n",
    "import config\n",
    "from langsmith import Client\n",
    "from langchain_core.prompts.chat import MessagesPlaceholder\n",
    "from langchain.memory import ConversationBufferWindowMemory\n",
    "from langchain_ai21 import AI21LLM\n",
    "from langchain_experimental.sql.base import SQLDatabaseChain"
   ]
  },
  {
   "cell_type": "code",
   "execution_count": 79,
   "metadata": {},
   "outputs": [],
   "source": [
    "from langchain.agents.agent_toolkits import create_sql_agent,SQLDatabaseToolkit\n",
    "from langchain.agents.agent_types import AgentType\n",
    "from langchain.sql_database import SQLDatabase\n",
    "from langchain.chat_models.openai import ChatOpenAI\n",
    "from langchain.memory import ConversationBufferMemory"
   ]
  },
  {
   "cell_type": "code",
   "execution_count": 80,
   "metadata": {},
   "outputs": [],
   "source": [
    "os.environ[\"AI21_API_KEY\"] = config.AI21_API_KEY\n",
    "os.environ[\"GOOGLE_API_KEY\"] = config.GOOGLE_API_KEY\n",
    "os.environ[\"OPENAI_API_KEY\"] = config.OPENAI_API_KEY\n",
    "os.environ[\"NVIDIA_API_KEY\"] = config.NVIDIA_API_KEY\n",
    "os.environ[\"HUGGINGFACEHUB_API_TOKEN\"] = config.HUGGINGFACEHUB_API_TOKEN\n",
    "os.environ[\"FIREWORKS_API_KEY\"] = config.FIREWORKS_API_KEY\n",
    "os.environ[\"LANGCHAIN_API_KEY\"] = config.LANGCHAIN_API_KEY"
   ]
  },
  {
   "cell_type": "code",
   "execution_count": 81,
   "metadata": {},
   "outputs": [],
   "source": [
    "os.environ[\"LANGCHAIN_TRACING_V2\"]=\"true\"\n",
    "os.environ[\"LANGCHAIN_ENDPOINT\"]=\"https://api.smith.langchain.com\"\n",
    "os.environ[\"LANGCHAIN_API_KEY\"]=config.LANGCHAIN_API_KEY\n",
    "os.environ[\"LANGCHAIN_PROJECT\"]=\"pr-giving-defeat-64\""
   ]
  },
  {
   "cell_type": "code",
   "execution_count": 82,
   "metadata": {},
   "outputs": [],
   "source": [
    "client = Client()"
   ]
  },
  {
   "cell_type": "code",
   "execution_count": 6,
   "metadata": {},
   "outputs": [],
   "source": [
    "csv_files = os.listdir(\"./csv\")"
   ]
  },
  {
   "cell_type": "code",
   "execution_count": null,
   "metadata": {},
   "outputs": [],
   "source": [
    "dataframe = []\n",
    "\n",
    "for csv_file in csv_files:\n",
    "    df = pd.read_csv(os.path.join(\"./csv\", csv_file))\n",
    "    for index, row in df.iterrows():\n",
    "        if type(row[\"Gender\"]) == str:\n",
    "            gender = row[\"Gender\"]\n",
    "        else:\n",
    "            row[\"Gender\"] = gender \n",
    "\n",
    "        if type(row[\"Age\"]) == str:\n",
    "            age = float(row[\"Age\"].split(' ')[0])\n",
    "            row[\"Age\"] = age \n",
    "        else:\n",
    "            row[\"Age\"] = age \n",
    "        \n",
    "        if type(row[\"File Start\"]) == str:\n",
    "            file_start = row[\"File Start\"]\n",
    "            del row[\"File Start\"]\n",
    "            row[\"file_start\"] = file_start\n",
    "        else:\n",
    "            row[\"file_start\"] = file_start\n",
    "            del row['File Start']\n",
    "\n",
    "        row['start_time'] = row['Start time']\n",
    "        del row['Start time']\n",
    "\n",
    "        row['end_time'] = row['End time']\n",
    "        del row['End time']\n",
    "\n",
    "        row['channel_names'] = row['Channel names']\n",
    "        del row['Channel names']\n",
    "\n",
    "        row['file_name'] = csv_file\n",
    "\n",
    "        dataframe.append(row)\n",
    "\n",
    "df = pd.DataFrame(dataframe)"
   ]
  },
  {
   "cell_type": "code",
   "execution_count": 83,
   "metadata": {},
   "outputs": [],
   "source": [
    "engine = create_engine(\"sqlite:///eeg.db\")\n",
    "# df.to_sql(\"eeg\", engine, index=False)"
   ]
  },
  {
   "cell_type": "code",
   "execution_count": 84,
   "metadata": {},
   "outputs": [
    {
     "name": "stdout",
     "output_type": "stream",
     "text": [
      "sqlite\n",
      "['eeg']\n"
     ]
    },
    {
     "data": {
      "text/plain": [
       "\"[('Male', 12.0, 'spike and wave', '13:10:31', '13:14:29:034', '13:14:31', 'FP1 FP2 F3 F4 C3 C4 P3 P4 O1 O2 F7 F8 T3 T4 T5 T6 FZ PZ CZ', '1004.csv')]\""
      ]
     },
     "execution_count": 84,
     "metadata": {},
     "output_type": "execute_result"
    }
   ],
   "source": [
    "db = SQLDatabase(engine=engine)\n",
    "print(db.dialect)\n",
    "print(db.get_usable_table_names())\n",
    "db.run(\"SELECT * FROM eeg WHERE start_time == '13:14:29:034';\")"
   ]
  },
  {
   "cell_type": "code",
   "execution_count": 87,
   "metadata": {},
   "outputs": [],
   "source": [
    "llm = ChatFireworks(api_key = \"fw_3ZYESBpJiXVuqDjbxK34KxDw\", model=\"accounts/fireworks/models/llama-v3p1-405b-instruct\")"
   ]
  },
  {
   "cell_type": "code",
   "execution_count": 35,
   "metadata": {},
   "outputs": [],
   "source": [
    "default_prompt = \"You are a database agent for writing queries and returning answers. The table is eeg, containing CSV records of EEG recordings from different patients. Each file (identified by file_name) can have multiple entries with consistent gender, age, and file_start values. Events are single entries with a start_time, end_time, comment, and channel_names. If channel_names includes 'FP1', it implies the event was observed in FP1, and similarly for other channels. Ages are floats type. Subjects are characterized by age and gender, not filenames. File names referred to by an integer should be assumed to have a .csv extension. Timestamps in hh:mm:ss:ms format need to be cast to integers for comparisons. Use DISTINCT with file_name to handle files with multiple entries. You should also look for message history to be aware of the context completely.\""
   ]
  },
  {
   "cell_type": "code",
   "execution_count": 112,
   "metadata": {},
   "outputs": [],
   "source": [
    "memory = ChatMessageHistory(session_id=\"test-session\")"
   ]
  },
  {
   "cell_type": "code",
   "execution_count": 100,
   "metadata": {},
   "outputs": [],
   "source": [
    "chat_template = \"\"\" Based on the schema given {info} write an executable query for the user input. \n",
    "Execute it in the database and get sql results. Make a response to user from sql results based on \n",
    "the question. \n",
    "Input: \"user input\"\n",
    "SQL query: \"SQL Query here\"\n",
    "\"\"\""
   ]
  },
  {
   "cell_type": "code",
   "execution_count": 101,
   "metadata": {},
   "outputs": [],
   "source": [
    "chat_prompt = ChatPromptTemplate.from_messages([\n",
    "    ('system', chat_template),\n",
    "    MessagesPlaceholder(variable_name='history'),\n",
    "    ('human', \"{input}\")\n",
    "])"
   ]
  },
  {
   "cell_type": "code",
   "execution_count": 115,
   "metadata": {},
   "outputs": [],
   "source": [
    "# Assuming you have a list of previous Question-Answer pairs\n",
    "history_list = [\n",
    "    \"Q: Name a file that has the recording of a male patient. A: 1004.csv\",\n",
    "]\n",
    "\n",
    "# Convert history_list to a single string\n",
    "history_str = \"\\n\".join(history_list)\n"
   ]
  },
  {
   "cell_type": "code",
   "execution_count": 147,
   "metadata": {},
   "outputs": [],
   "source": [
    "template = '''Answer the following questions as best you can. You have access to the following tools:\n",
    "\n",
    "{tools}\n",
    "\n",
    "These are the relevant pieces of the previous conversations, use them if needed.\n",
    "{history}\n",
    "\n",
    "Use the following format:\n",
    "\n",
    "Question: the input question you must answer\n",
    "Thought: you should always think about what to do\n",
    "Action: the action to take, should be one of [{tool_names}]\n",
    "Action Input: the input to the action\n",
    "Observation: the result of the action\n",
    "... (this Thought/Action/Action Input/Observation can repeat N times)\n",
    "Thought: I now know the final answer\n",
    "Final Answer: the final answer to the original input question\n",
    "\n",
    "Begin!\n",
    "\n",
    "Question: {input}\n",
    "Thought:{agent_scratchpad}'''\n",
    "\n",
    "prompt = PromptTemplate.from_template(template)"
   ]
  },
  {
   "cell_type": "code",
   "execution_count": 124,
   "metadata": {},
   "outputs": [],
   "source": [
    "toolkit = SQLDatabaseToolkit(llm = llm, db = db)"
   ]
  },
  {
   "cell_type": "code",
   "execution_count": 141,
   "metadata": {},
   "outputs": [
    {
     "data": {
      "text/plain": [
       "{}"
      ]
     },
     "execution_count": 141,
     "metadata": {},
     "output_type": "execute_result"
    }
   ],
   "source": [
    "toolkit.dict()"
   ]
  },
  {
   "cell_type": "code",
   "execution_count": 136,
   "metadata": {},
   "outputs": [],
   "source": [
    "tools = toolkit.get_tools()"
   ]
  },
  {
   "cell_type": "code",
   "execution_count": 148,
   "metadata": {},
   "outputs": [],
   "source": [
    "tool_names = [tool.name for tool in tools]"
   ]
  },
  {
   "cell_type": "code",
   "execution_count": 149,
   "metadata": {},
   "outputs": [
    {
     "data": {
      "text/plain": [
       "['sql_db_query', 'sql_db_schema', 'sql_db_list_tables', 'sql_db_query_checker']"
      ]
     },
     "execution_count": 149,
     "metadata": {},
     "output_type": "execute_result"
    }
   ],
   "source": [
    "tool_names"
   ]
  },
  {
   "cell_type": "code",
   "execution_count": 150,
   "metadata": {},
   "outputs": [
    {
     "data": {
      "text/plain": [
       "'Answer the following questions as best you can. You have access to the following tools:\\n\\n[QuerySQLDataBaseTool(description=\"Input to this tool is a detailed and correct SQL query, output is a result from the database. If the query is not correct, an error message will be returned. If an error is returned, rewrite the query, check the query, and try again. If you encounter an issue with Unknown column \\'xxxx\\' in \\'field list\\', use sql_db_schema to query the correct table fields.\", db=<langchain_community.utilities.sql_database.SQLDatabase object at 0x0000020B05485910>), InfoSQLDatabaseTool(description=\\'Input to this tool is a comma-separated list of tables, output is the schema and sample rows for those tables. Be sure that the tables actually exist by calling sql_db_list_tables first! Example Input: table1, table2, table3\\', db=<langchain_community.utilities.sql_database.SQLDatabase object at 0x0000020B05485910>), ListSQLDatabaseTool(db=<langchain_community.utilities.sql_database.SQLDatabase object at 0x0000020B05485910>), QuerySQLCheckerTool(description=\\'Use this tool to double check if your query is correct before executing it. Always use this tool before executing a query with sql_db_query!\\', db=<langchain_community.utilities.sql_database.SQLDatabase object at 0x0000020B05485910>, llm=ChatFireworks(client=<fireworks.client.chat_completion.ChatCompletionV2 object at 0x0000020B0E726F90>, async_client=<fireworks.client.chat_completion.ChatCompletionV2 object at 0x0000020B0E727650>, model_name=\\'accounts/fireworks/models/llama-v3p1-405b-instruct\\', fireworks_api_key=SecretStr(\\'**********\\')), llm_chain=LLMChain(prompt=PromptTemplate(input_variables=[\\'dialect\\', \\'query\\'], template=\\'\\\\n{query}\\\\nDouble check the {dialect} query above for common mistakes, including:\\\\n- Using NOT IN with NULL values\\\\n- Using UNION when UNION ALL should have been used\\\\n- Using BETWEEN for exclusive ranges\\\\n- Data type mismatch in predicates\\\\n- Properly quoting identifiers\\\\n- Using the correct number of arguments for functions\\\\n- Casting to the correct data type\\\\n- Using the proper columns for joins\\\\n\\\\nIf there are any of the above mistakes, rewrite the query. If there are no mistakes, just reproduce the original query.\\\\n\\\\nOutput the final SQL query only.\\\\n\\\\nSQL Query: \\'), llm=ChatFireworks(client=<fireworks.client.chat_completion.ChatCompletionV2 object at 0x0000020B0E726F90>, async_client=<fireworks.client.chat_completion.ChatCompletionV2 object at 0x0000020B0E727650>, model_name=\\'accounts/fireworks/models/llama-v3p1-405b-instruct\\', fireworks_api_key=SecretStr(\\'**********\\'))))]\\n\\nThese are the relevant pieces of the previous conversations, use them if needed.\\nQ: Name a file that has the recording of a male patient. A: 1004.csv\\n\\nUse the following format:\\n\\nQuestion: the input question you must answer\\nThought: you should always think about what to do\\nAction: the action to take, should be one of [[\\'sql_db_query\\', \\'sql_db_schema\\', \\'sql_db_list_tables\\', \\'sql_db_query_checker\\']]\\nAction Input: the input to the action\\nObservation: the result of the action\\n... (this Thought/Action/Action Input/Observation can repeat N times)\\nThought: I now know the final answer\\nFinal Answer: the final answer to the original input question\\n\\nBegin!\\n\\nQuestion: What is the age of the patient in this file ?\\nThought:'"
      ]
     },
     "execution_count": 150,
     "metadata": {},
     "output_type": "execute_result"
    }
   ],
   "source": [
    "# Pass this history into your prompt template\n",
    "prompt.format(history = history_str, tools = toolkit.get_tools(), input = \"What is the age of the patient in this file ?\", agent_scratchpad = \"\", tool_names = tool_names)"
   ]
  },
  {
   "cell_type": "code",
   "execution_count": 151,
   "metadata": {},
   "outputs": [],
   "source": [
    "agent_executor = create_sql_agent(llm, db=db, agent_type=\"zero-shot-react-description\", verbose=True, use_history = True, prompt = prompt)"
   ]
  },
  {
   "cell_type": "code",
   "execution_count": 152,
   "metadata": {},
   "outputs": [],
   "source": [
    "agent_with_chat_history = RunnableWithMessageHistory(\n",
    "    agent_executor,\n",
    "    # This is needed because in most real world scenarios, a session id is needed\n",
    "    # It isn't really used here because we are using a simple in memory ChatMessageHistory\n",
    "    lambda session_id: memory,\n",
    "    input_messages_key=\"input\",\n",
    "    history_messages_key=\"chat_history\",\n",
    ")"
   ]
  },
  {
   "cell_type": "code",
   "execution_count": 158,
   "metadata": {},
   "outputs": [],
   "source": [
    "query = \"What is the age of the patient in this file ?\""
   ]
  },
  {
   "cell_type": "code",
   "execution_count": null,
   "metadata": {},
   "outputs": [],
   "source": []
  },
  {
   "cell_type": "code",
   "execution_count": 160,
   "metadata": {},
   "outputs": [
    {
     "name": "stdout",
     "output_type": "stream",
     "text": [
      "\n",
      "\n",
      "\u001b[1m> Entering new SQL Agent Executor chain...\u001b[0m\n",
      "\u001b[32;1m\u001b[1;3mTo find the age of the patient in the file \"1004.csv\", I need to first check if there is a table in the database that contains patient information, including age. \n",
      "\n",
      "Action: sql_db_list_tables\n",
      "Action Input: None\u001b[0m\u001b[38;5;200m\u001b[1;3meeg\u001b[0m\u001b[32;1m\u001b[1;3mAction: sql_db_schema\n",
      "Action Input: eeg\u001b[0m\u001b[33;1m\u001b[1;3m\n",
      "CREATE TABLE eeg (\n",
      "\t\"Gender\" TEXT, \n",
      "\t\"Age\" FLOAT, \n",
      "\t\"Comment\" TEXT, \n",
      "\tfile_start TEXT, \n",
      "\tstart_time TEXT, \n",
      "\tend_time TEXT, \n",
      "\tchannel_names TEXT, \n",
      "\tfile_name TEXT\n",
      ")\n",
      "\n",
      "/*\n",
      "3 rows from eeg table:\n",
      "Gender\tAge\tComment\tfile_start\tstart_time\tend_time\tchannel_names\tfile_name\n",
      "Male\t12.0\tspike and wave\t13:10:31\t13:11:36:739\t13:11:38:478\tFP1 FP2 F3 F4 C3 C4 P3 P4 O1 O2 F7 F8 T3 T4 T5 T6 FZ PZ CZ\t1004.csv\n",
      "Male\t12.0\tspike and wave\t13:10:31\t13:14:29:034\t13:14:31\tFP1 FP2 F3 F4 C3 C4 P3 P4 O1 O2 F7 F8 T3 T4 T5 T6 FZ PZ CZ\t1004.csv\n",
      "Male\t12.0\tspike and wave\t13:10:31\t13:16:20\t13:16:21:982\tFP1 FP2 F3 F4 C3 C4 P3 P4 O1 O2 F7 F8 T3 T4 T5 T6 FZ PZ CZ\t1004.csv\n",
      "*/\u001b[0m\u001b[32;1m\u001b[1;3mThought: I can see that the \"eeg\" table has a column named \"Age\" which contains the age of the patient. I need to write a SQL query to retrieve the age of the patient from this table, given the file name \"1004.csv\". \n",
      "\n",
      "Action: sql_db_query_checker\n",
      "Action Input: SELECT Age FROM eeg WHERE file_name = \"1004.csv\"\u001b[0m\u001b[36;1m\u001b[1;3m```sql\n",
      "SELECT Age FROM eeg WHERE file_name = '1004.csv'\n",
      "```\u001b[0m\u001b[32;1m\u001b[1;3mThought: Now that I have a corrected query, I can execute it to get the age of the patient. \n",
      "\n",
      "Action: sql_db_query\n",
      "Action Input: SELECT Age FROM eeg WHERE file_name = '1004.csv'\u001b[0m\u001b[36;1m\u001b[1;3m[(12.0,), (12.0,), (12.0,), (12.0,), (12.0,), (12.0,), (12.0,)]\u001b[0m\u001b[32;1m\u001b[1;3mFinal Answer: $\\boxed{12.0}$\u001b[0m\n",
      "\n",
      "\u001b[1m> Finished chain.\u001b[0m\n"
     ]
    },
    {
     "data": {
      "text/plain": [
       "{'input': 'What is the age of the patient in this file ?',\n",
       " 'tools': [QuerySQLDataBaseTool(description=\"Input to this tool is a detailed and correct SQL query, output is a result from the database. If the query is not correct, an error message will be returned. If an error is returned, rewrite the query, check the query, and try again. If you encounter an issue with Unknown column 'xxxx' in 'field list', use sql_db_schema to query the correct table fields.\", db=<langchain_community.utilities.sql_database.SQLDatabase object at 0x0000020B05485910>),\n",
       "  InfoSQLDatabaseTool(description='Input to this tool is a comma-separated list of tables, output is the schema and sample rows for those tables. Be sure that the tables actually exist by calling sql_db_list_tables first! Example Input: table1, table2, table3', db=<langchain_community.utilities.sql_database.SQLDatabase object at 0x0000020B05485910>),\n",
       "  ListSQLDatabaseTool(db=<langchain_community.utilities.sql_database.SQLDatabase object at 0x0000020B05485910>),\n",
       "  QuerySQLCheckerTool(description='Use this tool to double check if your query is correct before executing it. Always use this tool before executing a query with sql_db_query!', db=<langchain_community.utilities.sql_database.SQLDatabase object at 0x0000020B05485910>, llm=ChatFireworks(client=<fireworks.client.chat_completion.ChatCompletionV2 object at 0x0000020B0E726F90>, async_client=<fireworks.client.chat_completion.ChatCompletionV2 object at 0x0000020B0E727650>, model_name='accounts/fireworks/models/llama-v3p1-405b-instruct', fireworks_api_key=SecretStr('**********')), llm_chain=LLMChain(prompt=PromptTemplate(input_variables=['dialect', 'query'], template='\\n{query}\\nDouble check the {dialect} query above for common mistakes, including:\\n- Using NOT IN with NULL values\\n- Using UNION when UNION ALL should have been used\\n- Using BETWEEN for exclusive ranges\\n- Data type mismatch in predicates\\n- Properly quoting identifiers\\n- Using the correct number of arguments for functions\\n- Casting to the correct data type\\n- Using the proper columns for joins\\n\\nIf there are any of the above mistakes, rewrite the query. If there are no mistakes, just reproduce the original query.\\n\\nOutput the final SQL query only.\\n\\nSQL Query: '), llm=ChatFireworks(client=<fireworks.client.chat_completion.ChatCompletionV2 object at 0x0000020B0E726F90>, async_client=<fireworks.client.chat_completion.ChatCompletionV2 object at 0x0000020B0E727650>, model_name='accounts/fireworks/models/llama-v3p1-405b-instruct', fireworks_api_key=SecretStr('**********'))))],\n",
       " 'tool_names': ['sql_db_query',\n",
       "  'sql_db_schema',\n",
       "  'sql_db_list_tables',\n",
       "  'sql_db_query_checker'],\n",
       " 'agent_scratchpad': '',\n",
       " 'history': 'Q: Name a file that has the recording of a male patient. A: 1004.csv',\n",
       " 'chat_history': [],\n",
       " 'output': '$\\\\boxed{12.0}$'}"
      ]
     },
     "execution_count": 160,
     "metadata": {},
     "output_type": "execute_result"
    }
   ],
   "source": [
    "agent_with_chat_history.invoke({'input': query, 'tools': tools, 'tool_names': tool_names, 'agent_scratchpad': \"\", 'history': history_str},\n",
    "            config={\"configurable\": {\"session_id\": \"<foo>\"}})"
   ]
  },
  {
   "cell_type": "code",
   "execution_count": 14,
   "metadata": {},
   "outputs": [],
   "source": [
    "memory = ConversationBufferMemory(memory_key = 'history' , input_key = 'input')"
   ]
  },
  {
   "cell_type": "code",
   "execution_count": 69,
   "metadata": {},
   "outputs": [],
   "source": [
    "suffix = \"\"\"Begin!\n",
    "\n",
    "Relevant pieces of previous conversation:\n",
    "{history}\n",
    "(You do not need to use these pieces of information if not relevant)\n",
    "\n",
    "Question: {input}\n",
    "Thought: I should look at the tables in the database to see what I can query.  Then I should query the schema of the most relevant tables.\n",
    "{agent_scratchpad}\n",
    "\"\"\""
   ]
  },
  {
   "cell_type": "code",
   "execution_count": 77,
   "metadata": {},
   "outputs": [],
   "source": [
    "executor = create_sql_agent(\n",
    "        llm = llm,\n",
    "        toolkit = SQLDatabaseToolkit(db=db, llm=llm),\n",
    "        agent_type = AgentType.ZERO_SHOT_REACT_DESCRIPTION,\n",
    "        input_variables = [\"input\", \"agent_scratchpad\",\"history\"],\n",
    "        suffix = suffix,\n",
    "        agent_executor_kwargs = {'memory':memory},\n",
    "        handle_parsing_errors = True\n",
    "    )"
   ]
  },
  {
   "cell_type": "code",
   "execution_count": 153,
   "metadata": {},
   "outputs": [],
   "source": [
    "def execute_query():\n",
    "    query = query_text.get(\"1.0\", tk.END).strip()\n",
    "    if not query:\n",
    "        messagebox.showwarning(\"Input Error\", \"Please enter a query.\")\n",
    "        return\n",
    "    \n",
    "    try:\n",
    "        result = agent_with_chat_history.invoke(\n",
    "            {\"input\": f\"{query}\"},\n",
    "            config={\"configurable\": {\"session_id\": \"<foo>\"}})\n",
    "        output = result.get(\"output\", \"No result found\")\n",
    "        result_text.config(state=tk.NORMAL)\n",
    "        result_text.delete(\"1.0\", tk.END)\n",
    "        result_text.insert(tk.END, output)\n",
    "        result_text.config(state=tk.DISABLED)\n",
    "    except Exception as e:\n",
    "        messagebox.showerror(\"Execution Error\", str(e))"
   ]
  },
  {
   "cell_type": "code",
   "execution_count": 85,
   "metadata": {},
   "outputs": [],
   "source": [
    "db = SQLDatabase(engine=engine)"
   ]
  },
  {
   "cell_type": "code",
   "execution_count": 20,
   "metadata": {},
   "outputs": [],
   "source": [
    "table_info = db.table_info\n"
   ]
  },
  {
   "cell_type": "code",
   "execution_count": 88,
   "metadata": {},
   "outputs": [],
   "source": [
    "m1 = ConversationBufferWindowMemory(k=4,return_messages=True)"
   ]
  },
  {
   "cell_type": "code",
   "execution_count": 90,
   "metadata": {},
   "outputs": [],
   "source": [
    "db_chain = SQLDatabaseChain.from_llm(llm, db,verbose = True)"
   ]
  },
  {
   "cell_type": "code",
   "execution_count": null,
   "metadata": {},
   "outputs": [],
   "source": [
    "while True:\n",
    "    query = input('human:')\n",
    "    if query != '':\n",
    "        chat = m1.load_memory_variables({})['history']\n",
    "        prompt = chat_prompt.format(info=table_info, history=chat, input=query)\n",
    "        response = db_chain.run(prompt)\n",
    "        m1.save_context({'input': query}, {'output': response})\n",
    "    else:\n",
    "        break"
   ]
  },
  {
   "cell_type": "code",
   "execution_count": 1,
   "metadata": {},
   "outputs": [],
   "source": [
    "from langchain.chains.llm import LLMChain"
   ]
  },
  {
   "cell_type": "code",
   "execution_count": null,
   "metadata": {},
   "outputs": [],
   "source": [
    "memory = ConversationBufferMemory(input_key='input', memory_key=\"history\")\n",
    "dbchain = SQLDatabaseChain(\n",
    "        llm_chain=LLMChain(llm=llm, prompt=chat_prompt, memory=memory),\n",
    "        database=db, \n",
    "        verbose=True\n",
    "    )"
   ]
  },
  {
   "cell_type": "code",
   "execution_count": 22,
   "metadata": {},
   "outputs": [],
   "source": [
    "query = \"How many files are there ?\""
   ]
  },
  {
   "cell_type": "code",
   "execution_count": null,
   "metadata": {},
   "outputs": [],
   "source": [
    "memory.load_memory_variables({})['history']"
   ]
  },
  {
   "cell_type": "code",
   "execution_count": null,
   "metadata": {},
   "outputs": [],
   "source": [
    "chat = memory.load_memory_variables({})['history']\n",
    "prompt = chat_prompt.format(info=table_info, history=chat, input=query)"
   ]
  },
  {
   "cell_type": "code",
   "execution_count": null,
   "metadata": {},
   "outputs": [],
   "source": [
    "dbchain.run(\"how many files are there ?\")"
   ]
  },
  {
   "cell_type": "code",
   "execution_count": 154,
   "metadata": {},
   "outputs": [],
   "source": [
    "# Create the main window\n",
    "root = tk.Tk()\n",
    "root.title(\"SQL Agent GUI\")\n",
    "\n",
    "# Create and place widgets\n",
    "query_label = tk.Label(root, text=\"Enter SQL Query:\")\n",
    "query_label.pack(pady=5)\n",
    "\n",
    "query_text = scrolledtext.ScrolledText(root, width=80, height=10)\n",
    "query_text.pack(pady=5)\n",
    "\n",
    "execute_button = tk.Button(root, text=\"Execute Query\", command=execute_query)\n",
    "execute_button.pack(pady=5)\n",
    "\n",
    "result_label = tk.Label(root, text=\"Query Result:\")\n",
    "result_label.pack(pady=5)\n",
    "\n",
    "result_text = scrolledtext.ScrolledText(root, width=80, height=15, state=tk.DISABLED)\n",
    "result_text.pack(pady=5)\n"
   ]
  },
  {
   "cell_type": "code",
   "execution_count": 155,
   "metadata": {},
   "outputs": [],
   "source": [
    "root.mainloop()"
   ]
  }
 ],
 "metadata": {
  "kernelspec": {
   "display_name": "Python 3",
   "language": "python",
   "name": "python3"
  },
  "language_info": {
   "codemirror_mode": {
    "name": "ipython",
    "version": 3
   },
   "file_extension": ".py",
   "mimetype": "text/x-python",
   "name": "python",
   "nbconvert_exporter": "python",
   "pygments_lexer": "ipython3",
   "version": "3.12.4"
  },
  "orig_nbformat": 4,
  "vscode": {
   "interpreter": {
    "hash": "3fcbd7240ee8f908d933dc7f71e8c42a1a91163b70ede8dcff5146d4087436c7"
   }
  }
 },
 "nbformat": 4,
 "nbformat_minor": 2
}
