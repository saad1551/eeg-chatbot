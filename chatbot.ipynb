{
 "cells": [
  {
   "cell_type": "code",
   "execution_count": 1,
   "metadata": {},
   "outputs": [],
   "source": [
    "import os\n",
    "from langchain_community.utilities import SQLDatabase\n",
    "from sqlalchemy import create_engine\n",
    "from langchain_community.agent_toolkits.sql.base import create_sql_agent\n",
    "import pandas as pd\n",
    "from langchain_community.chat_message_histories import RedisChatMessageHistory\n",
    "from langchain_fireworks import ChatFireworks\n",
    "from langchain.prompts import PromptTemplate\n",
    "from langchain_core.runnables.history import RunnableWithMessageHistory\n",
    "from langchain.memory import ChatMessageHistory\n",
    "from langchain_core.prompts import ChatPromptTemplate\n",
    "import tkinter as tk\n",
    "from tkinter import scrolledtext, messagebox\n",
    "from langchain.memory import ConversationBufferMemory\n",
    "import config"
   ]
  },
  {
   "cell_type": "code",
   "execution_count": 2,
   "metadata": {},
   "outputs": [],
   "source": [
    "os.environ[\"AI21_API_KEY\"] = config.AI21_API_KEY\n",
    "os.environ[\"GOOGLE_API_KEY\"] = config.GOOGLE_API_KEY\n",
    "os.environ[\"OPENAI_API_KEY\"] = config.OPENAI_API_KEY\n",
    "os.environ[\"NVIDIA_API_KEY\"] = config.NVIDIA_API_KEY\n",
    "os.environ[\"HUGGINGFACEHUB_API_TOKEN\"] = config.HUGGINGFACEHUB_API_TOKEN\n",
    "os.environ[\"FIREWORKS_API_KEY\"] = config.FIREWORKS_API_KEY"
   ]
  },
  {
   "cell_type": "code",
   "execution_count": 3,
   "metadata": {},
   "outputs": [],
   "source": [
    "csv_files = os.listdir(\"./csv\")"
   ]
  },
  {
   "cell_type": "code",
   "execution_count": 5,
   "metadata": {},
   "outputs": [],
   "source": [
    "dataframe = []\n",
    "\n",
    "for csv_file in csv_files:\n",
    "    df = pd.read_csv(os.path.join(\"./csv\", csv_file))\n",
    "    for index, row in df.iterrows():\n",
    "        if type(row[\"Gender\"]) == str:\n",
    "            gender = row[\"Gender\"]\n",
    "        else:\n",
    "            row[\"Gender\"] = gender \n",
    "\n",
    "        if type(row[\"Age\"]) == str:\n",
    "            age = float(row[\"Age\"].split(' ')[0])\n",
    "        else:\n",
    "            row[\"Age\"] = age \n",
    "        \n",
    "        if type(row[\"File Start\"]) == str:\n",
    "            file_start = row[\"File Start\"]\n",
    "            del row[\"File Start\"]\n",
    "            row[\"file_start\"] = file_start\n",
    "        else:\n",
    "            row[\"file_start\"] = file_start\n",
    "            del row['File Start']\n",
    "\n",
    "        row['start_time'] = row['Start time']\n",
    "        del row['Start time']\n",
    "\n",
    "        row['end_time'] = row['End time']\n",
    "        del row['End time']\n",
    "\n",
    "        row['channel_names'] = row['Channel names']\n",
    "        del row['Channel names']\n",
    "\n",
    "        row['file_name'] = csv_file\n",
    "\n",
    "        dataframe.append(row)\n",
    "\n",
    "df = pd.DataFrame(dataframe)"
   ]
  },
  {
   "cell_type": "code",
   "execution_count": 3,
   "metadata": {},
   "outputs": [],
   "source": [
    "engine = create_engine(\"sqlite:///eeg.db\")\n",
    "# df.to_sql(\"eeg\", engine, index=False)"
   ]
  },
  {
   "cell_type": "code",
   "execution_count": 4,
   "metadata": {},
   "outputs": [
    {
     "name": "stdout",
     "output_type": "stream",
     "text": [
      "sqlite\n",
      "['eeg']\n"
     ]
    },
    {
     "data": {
      "text/plain": [
       "\"[('Male', '12.0', 'spike and wave', '13:10:31', '13:14:29:034', '13:14:31', 'FP1 FP2 F3 F4 C3 C4 P3 P4 O1 O2 F7 F8 T3 T4 T5 T6 FZ PZ CZ', '1004.csv')]\""
      ]
     },
     "execution_count": 4,
     "metadata": {},
     "output_type": "execute_result"
    }
   ],
   "source": [
    "db = SQLDatabase(engine=engine)\n",
    "print(db.dialect)\n",
    "print(db.get_usable_table_names())\n",
    "db.run(\"SELECT * FROM eeg WHERE start_time == '13:14:29:034';\")"
   ]
  },
  {
   "cell_type": "code",
   "execution_count": 5,
   "metadata": {},
   "outputs": [],
   "source": [
    "llm = ChatFireworks(model=\"accounts/fireworks/models/llama-v3p1-405b-instruct\")"
   ]
  },
  {
   "cell_type": "code",
   "execution_count": 6,
   "metadata": {},
   "outputs": [],
   "source": [
    "default_prompt = \"You are a database agent for writing queries and returning answers. The table is eeg, containing CSV records of EEG recordings from different patients. Each file (identified by file_name) can have multiple entries with consistent gender, age, and file_start values. Events are single entries with a start_time, end_time, comment, and channel_names. If channel_names includes 'FP1', it implies the event was observed in FP1, and similarly for other channels. Ages are floats type. Subjects are characterized by age and gender, not filenames. File names referred to by an integer should be assumed to have a .csv extension. Timestamps in hh:mm:ss:ms format need to be cast to integers for comparisons. Use DISTINCT with file_name to handle files with multiple entries. Avoid using LIMIT unless absolutely necessary. You should also look for message history to be aware of the context completely.\""
   ]
  },
  {
   "cell_type": "code",
   "execution_count": 7,
   "metadata": {},
   "outputs": [],
   "source": [
    "memory = ChatMessageHistory(session_id=\"test-session\")"
   ]
  },
  {
   "cell_type": "code",
   "execution_count": 8,
   "metadata": {},
   "outputs": [],
   "source": [
    "agent_executor = create_sql_agent(llm, db=db, agent_type=\"zero-shot-react-description\", verbose=True)"
   ]
  },
  {
   "cell_type": "code",
   "execution_count": 9,
   "metadata": {},
   "outputs": [],
   "source": [
    "agent_with_chat_history = RunnableWithMessageHistory(\n",
    "    agent_executor,\n",
    "    # This is needed because in most real world scenarios, a session id is needed\n",
    "    # It isn't really used here because we are using a simple in memory ChatMessageHistory\n",
    "    lambda session_id: memory,\n",
    "    input_messages_key=\"input\",\n",
    "    history_messages_key=\"chat_history\",\n",
    ")"
   ]
  },
  {
   "cell_type": "code",
   "execution_count": 10,
   "metadata": {},
   "outputs": [],
   "source": [
    "def execute_query():\n",
    "    query = query_text.get(\"1.0\", tk.END).strip()\n",
    "    if not query:\n",
    "        messagebox.showwarning(\"Input Error\", \"Please enter a query.\")\n",
    "        return\n",
    "    \n",
    "    try:\n",
    "        result = agent_with_chat_history.invoke(\n",
    "            {\"input\": f\"{default_prompt} query: {query}\"},\n",
    "            config={\"configurable\": {\"session_id\": \"<foo>\"}})\n",
    "        output = result.get(\"output\", \"No result found\")\n",
    "        result_text.config(state=tk.NORMAL)\n",
    "        result_text.delete(\"1.0\", tk.END)\n",
    "        result_text.insert(tk.END, output)\n",
    "        result_text.config(state=tk.DISABLED)\n",
    "    except Exception as e:\n",
    "        messagebox.showerror(\"Execution Error\", str(e))"
   ]
  },
  {
   "cell_type": "code",
   "execution_count": 15,
   "metadata": {},
   "outputs": [],
   "source": [
    "# Create the main window\n",
    "root = tk.Tk()\n",
    "root.title(\"SQL Agent GUI\")\n",
    "\n",
    "# Create and place widgets\n",
    "query_label = tk.Label(root, text=\"Enter SQL Query:\")\n",
    "query_label.pack(pady=5)\n",
    "\n",
    "query_text = scrolledtext.ScrolledText(root, width=80, height=10)\n",
    "query_text.pack(pady=5)\n",
    "\n",
    "execute_button = tk.Button(root, text=\"Execute Query\", command=execute_query)\n",
    "execute_button.pack(pady=5)\n",
    "\n",
    "result_label = tk.Label(root, text=\"Query Result:\")\n",
    "result_label.pack(pady=5)\n",
    "\n",
    "result_text = scrolledtext.ScrolledText(root, width=80, height=15, state=tk.DISABLED)\n",
    "result_text.pack(pady=5)\n"
   ]
  },
  {
   "cell_type": "code",
   "execution_count": 16,
   "metadata": {},
   "outputs": [
    {
     "name": "stdout",
     "output_type": "stream",
     "text": [
      "\n",
      "\n",
      "\u001b[1m> Entering new SQL Agent Executor chain...\u001b[0m\n",
      "\u001b[32;1m\u001b[1;3mThought: I should look at the tables in the database to see what I can query.  Then I should query the schema of the most relevant tables.\n",
      "\n",
      "Action: sql_db_list_tables\n",
      "Action Input: \u001b[0m\u001b[38;5;200m\u001b[1;3meeg\u001b[0m\u001b[32;1m\u001b[1;3mI have the list of tables in the database. The most relevant table for this question is the 'eeg' table.\n",
      "\n",
      "Action: sql_db_schema\n",
      "Action Input: eeg\u001b[0m\u001b[33;1m\u001b[1;3m\n",
      "CREATE TABLE eeg (\n",
      "\t\"Gender\" TEXT, \n",
      "\t\"Age\" TEXT, \n",
      "\t\"Comment\" TEXT, \n",
      "\tfile_start TEXT, \n",
      "\tstart_time TEXT, \n",
      "\tend_time TEXT, \n",
      "\tchannel_names TEXT, \n",
      "\tfile_name TEXT\n",
      ")\n",
      "\n",
      "/*\n",
      "3 rows from eeg table:\n",
      "Gender\tAge\tComment\tfile_start\tstart_time\tend_time\tchannel_names\tfile_name\n",
      "Male\t12 years\tspike and wave\t13:10:31\t13:11:36:739\t13:11:38:478\tFP1 FP2 F3 F4 C3 C4 P3 P4 O1 O2 F7 F8 T3 T4 T5 T6 FZ PZ CZ\t1004.csv\n",
      "Male\t12.0\tspike and wave\t13:10:31\t13:14:29:034\t13:14:31\tFP1 FP2 F3 F4 C3 C4 P3 P4 O1 O2 F7 F8 T3 T4 T5 T6 FZ PZ CZ\t1004.csv\n",
      "Male\t12.0\tspike and wave\t13:10:31\t13:16:20\t13:16:21:982\tFP1 FP2 F3 F4 C3 C4 P3 P4 O1 O2 F7 F8 T3 T4 T5 T6 FZ PZ CZ\t1004.csv\n",
      "*/\u001b[0m\u001b[32;1m\u001b[1;3mThought: I should query the 'eeg' table to count the number of events in the file '1024.csv'.\n",
      "\n",
      "Action: sql_db_query_checker\n",
      "Action Input: SELECT COUNT(*) FROM eeg WHERE file_name = '1024.csv'\u001b[0m\u001b[36;1m\u001b[1;3m```sql\n",
      "SELECT COUNT(*) FROM eeg WHERE file_name = '1024.csv'\n",
      "```\u001b[0m\u001b[32;1m\u001b[1;3mAction: sql_db_query\n",
      "Action Input: SELECT COUNT(*) FROM eeg WHERE file_name = '1024.csv'\u001b[0m\u001b[36;1m\u001b[1;3m[(9,)]\u001b[0m\u001b[32;1m\u001b[1;3mI now know the final answer\n",
      "Final Answer: There are 9 events in the file '1024.csv'.\u001b[0m\n",
      "\n",
      "\u001b[1m> Finished chain.\u001b[0m\n"
     ]
    }
   ],
   "source": [
    "root.mainloop()"
   ]
  }
 ],
 "metadata": {
  "kernelspec": {
   "display_name": "Python 3",
   "language": "python",
   "name": "python3"
  },
  "language_info": {
   "codemirror_mode": {
    "name": "ipython",
    "version": 3
   },
   "file_extension": ".py",
   "mimetype": "text/x-python",
   "name": "python",
   "nbconvert_exporter": "python",
   "pygments_lexer": "ipython3",
   "version": "3.12.4"
  },
  "orig_nbformat": 4,
  "vscode": {
   "interpreter": {
    "hash": "3fcbd7240ee8f908d933dc7f71e8c42a1a91163b70ede8dcff5146d4087436c7"
   }
  }
 },
 "nbformat": 4,
 "nbformat_minor": 2
}
