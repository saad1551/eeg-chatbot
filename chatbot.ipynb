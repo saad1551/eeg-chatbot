{
 "cells": [
  {
   "cell_type": "code",
   "execution_count": 33,
   "metadata": {},
   "outputs": [],
   "source": [
    "import os\n",
    "from langchain_community.utilities import SQLDatabase\n",
    "from sqlalchemy import create_engine\n",
    "from langchain.agents.agent_toolkits import create_sql_agent,SQLDatabaseToolkit\n",
    "import pandas as pd\n",
    "from langchain_fireworks import ChatFireworks\n",
    "from langchain.prompts import PromptTemplate\n",
    "from langchain_core.runnables.history import RunnableWithMessageHistory\n",
    "from langchain.memory import ChatMessageHistory\n",
    "import tkinter as tk\n",
    "from tkinter import scrolledtext, messagebox\n",
    "import config\n",
    "from langsmith import Client\n",
    "from datetime import datetime, date"
   ]
  },
  {
   "cell_type": "code",
   "execution_count": 4,
   "metadata": {},
   "outputs": [],
   "source": [
    "os.environ[\"FIREWORKS_API_KEY\"] = config.FIREWORKS_API_KEY\n",
    "os.environ[\"LANGCHAIN_TRACING_V2\"]=\"true\"\n",
    "os.environ[\"LANGCHAIN_ENDPOINT\"]=\"https://api.smith.langchain.com\"\n",
    "os.environ[\"LANGCHAIN_API_KEY\"]=config.LANGCHAIN_API_KEY\n",
    "os.environ[\"LANGCHAIN_PROJECT\"]=\"pr-giving-defeat-64\""
   ]
  },
  {
   "cell_type": "code",
   "execution_count": 5,
   "metadata": {},
   "outputs": [],
   "source": [
    "client = Client()"
   ]
  },
  {
   "cell_type": "code",
   "execution_count": 6,
   "metadata": {},
   "outputs": [],
   "source": [
    "csv_files = os.listdir(\"./csv\")"
   ]
  },
  {
   "cell_type": "code",
   "execution_count": 7,
   "metadata": {},
   "outputs": [],
   "source": [
    "def parse_timestamp(timestamp):\n",
    "    # If timestamp does not contain milliseconds, append ':00'\n",
    "    if ':' in timestamp and len(timestamp.split(':')) == 3:\n",
    "        timestamp += ':00'\n",
    "    \n",
    "    # Split timestamp into hours, minutes, seconds, and milliseconds\n",
    "    hours, minutes, seconds, _ = map(int, timestamp.split(':'))\n",
    "\n",
    "    _, _, _, milliseconds = map(str, timestamp.split(':'))\n",
    "    \n",
    "    # Create datetime.time object\n",
    "    time_obj = datetime.strptime(f\"{hours}:{minutes}:{seconds}.{milliseconds}\", \"%H:%M:%S.%f\").time()\n",
    "\n",
    "    return datetime.combine(date.today(), time_obj)\n",
    "    \n",
    "    # return datetime.combine(date.today(), time_obj)"
   ]
  },
  {
   "cell_type": "code",
   "execution_count": 15,
   "metadata": {},
   "outputs": [],
   "source": [
    "dataframe = []\n",
    "\n",
    "for csv_file in csv_files:\n",
    "    df = pd.read_csv(os.path.join(\"./csv\", csv_file))\n",
    "    for index, row in df.iterrows():\n",
    "        if type(row[\"Gender\"]) == str:\n",
    "            gender = row[\"Gender\"].lower()\n",
    "            row[\"Gender\"] = gender\n",
    "        else:\n",
    "            row[\"Gender\"] = gender \n",
    "\n",
    "        if type(row[\"Age\"]) == str:\n",
    "            age = float(row[\"Age\"].split(' ')[0])\n",
    "            row[\"Age\"] = age \n",
    "        else:\n",
    "            row[\"Age\"] = age \n",
    "        \n",
    "        if type(row[\"File Start\"]) == str:\n",
    "            file_start = row[\"File Start\"]\n",
    "            del row[\"File Start\"]\n",
    "            row[\"file_start\"] = file_start\n",
    "        else:\n",
    "            row[\"file_start\"] = file_start\n",
    "            del row['File Start']\n",
    "\n",
    "        row['start_time'] = row['Start time']\n",
    "        del row['Start time']\n",
    "\n",
    "        row['end_time'] = row['End time']\n",
    "        del row['End time']\n",
    "\n",
    "        row['channel_names'] = row['Channel names']\n",
    "        del row['Channel names']\n",
    "\n",
    "        row['file_name'] = csv_file\n",
    "\n",
    "        dataframe.append(row)\n",
    "\n",
    "df = pd.DataFrame(dataframe)\n",
    "\n",
    "df['duration'] = (df['end_time'].apply(parse_timestamp) - df['start_time'].apply(parse_timestamp)).dt.total_seconds()\n"
   ]
  },
  {
   "cell_type": "code",
   "execution_count": 8,
   "metadata": {},
   "outputs": [],
   "source": [
    "engine = create_engine(\"sqlite:///eeg.db\")\n",
    "# df.to_sql(\"eeg\", engine, index=False)"
   ]
  },
  {
   "cell_type": "code",
   "execution_count": 9,
   "metadata": {},
   "outputs": [
    {
     "name": "stdout",
     "output_type": "stream",
     "text": [
      "sqlite\n",
      "['eeg']\n"
     ]
    },
    {
     "data": {
      "text/plain": [
       "\"[('13:21:33:869', '13:21:35:965', 2.096), ('09:24:38:011', '09:24:44:960', 6.949), ('09:24:45:083', '09:24:45:758', 0.675), ('09:24:45:240', '09:24:45:593', 0.353), ('09:24:45:059', '09:24:45:774', 0.715)]\""
      ]
     },
     "execution_count": 9,
     "metadata": {},
     "output_type": "execute_result"
    }
   ],
   "source": [
    "db = SQLDatabase(engine=engine)\n",
    "print(db.dialect)\n",
    "print(db.get_usable_table_names())\n",
    "db.run(\"SELECT start_time, end_time, duration FROM eeg WHERE gender == 'female' LIMIT 5;\")\n",
    "# db.run(\"exec sp_help 'eeg';\")"
   ]
  },
  {
   "cell_type": "code",
   "execution_count": 10,
   "metadata": {},
   "outputs": [],
   "source": [
    "llm = ChatFireworks(api_key = \"fw_3ZYESBpJiXVuqDjbxK34KxDw\", model=\"accounts/fireworks/models/llama-v3p1-405b-instruct\")"
   ]
  },
  {
   "cell_type": "code",
   "execution_count": 20,
   "metadata": {},
   "outputs": [],
   "source": [
    "default_prompt = \"You are a database agent for writing queries and returning answers. The table is eeg, containing CSV records of EEG recordings from different patients. Each file (identified by file_name) can have multiple entries with consistent gender, age, and file_start values. Events are single entries with a start_time, end_time, comment, and channel_names. If channel_names includes 'FP1', it implies the event was observed in FP1, and similarly for other channels. Ages are floats type. Subjects are characterized by age and gender, not filenames. File names referred to by an integer should be assumed to have a .csv extension. Timestamps in hh:mm:ss:ms format need to be cast to integers for comparisons. Use DISTINCT with file_name to handle files with multiple entries. You should also look for message history to be aware of the context completely.\""
   ]
  },
  {
   "cell_type": "code",
   "execution_count": 11,
   "metadata": {},
   "outputs": [],
   "source": [
    "memory = ChatMessageHistory(session_id=\"test-session\")"
   ]
  },
  {
   "cell_type": "code",
   "execution_count": 32,
   "metadata": {},
   "outputs": [],
   "source": [
    "template = '''You are a database agent for writing queries and returning answers. The table is eeg, containing CSV records of \n",
    "EEG recordings from different patients. \n",
    "\n",
    "Its schema is {schema}\n",
    "\n",
    "Each file (identified by file_name) can have multiple entries with consistent gender, age, \n",
    "and file_start values. Events/abnormalities are single entries with a start_time, end_time, comment, and channel_names. The event/abnormality type\n",
    "defined by the comment. If channel_names includes 'FP1', it implies the event was observed in FP1, and similarly for other channels. Ages are floats type. \n",
    "Subjects are characterized by age and gender, not filenames. File names referred to by an integer should be assumed to have a .csv extension. \n",
    "Timestamps in hh:mm:ss:ms format need to be cast to integers for comparisons. Use DISTINCT with file_name to handle files with multiple entries. \n",
    "You should also look for message history to be aware of the context completely.\"\n",
    "\n",
    "Answer the following questions as best you can. You have access to the following tools:\n",
    "\n",
    "{tools}\n",
    "\n",
    "These are the relevant pieces of the previous conversations, use them if needed.\n",
    "{history}\n",
    "\n",
    "If there are mutltiple files mentioned in the previous conversations and the input refers to a file but doesn't specify which one, you should always \n",
    "assume that it is the most recently mentioned (either by human or by you) file being talked about\n",
    "\n",
    "Use the following format:\n",
    "\n",
    "Question: the input question you must answer\n",
    "Thought: you should always think about what to do\n",
    "Action: the action to take, should be one of [{tool_names}]\n",
    "Action Input: the input to the action\n",
    "Observation: the result of the action\n",
    "... (this Thought/Action/Action Input/Observation can repeat N times)\n",
    "Thought: I now know the final answer\n",
    "Final Answer: the final answer to the original input question\n",
    "\n",
    "Begin!\n",
    "\n",
    "Question: {input}\n",
    "Thought:{agent_scratchpad}'''\n",
    "\n",
    "prompt = PromptTemplate.from_template(template)"
   ]
  },
  {
   "cell_type": "code",
   "execution_count": 13,
   "metadata": {},
   "outputs": [],
   "source": [
    "toolkit = SQLDatabaseToolkit(llm = llm, db = db)"
   ]
  },
  {
   "cell_type": "code",
   "execution_count": 14,
   "metadata": {},
   "outputs": [],
   "source": [
    "tools = toolkit.get_tools()"
   ]
  },
  {
   "cell_type": "code",
   "execution_count": 15,
   "metadata": {},
   "outputs": [],
   "source": [
    "tool_names = [tool.name for tool in tools]"
   ]
  },
  {
   "cell_type": "code",
   "execution_count": 16,
   "metadata": {},
   "outputs": [],
   "source": [
    "schema = db.table_info"
   ]
  },
  {
   "cell_type": "code",
   "execution_count": 23,
   "metadata": {},
   "outputs": [],
   "source": [
    "agent_executor = create_sql_agent(llm, db=db, agent_type=\"zero-shot-react-description\", verbose=True, use_history = True, prompt = prompt)"
   ]
  },
  {
   "cell_type": "code",
   "execution_count": 24,
   "metadata": {},
   "outputs": [],
   "source": [
    "agent_with_chat_history = RunnableWithMessageHistory(\n",
    "    agent_executor,\n",
    "    # This is needed because in most real world scenarios, a session id is needed\n",
    "    # It isn't really used here because we are using a simple in memory ChatMessageHistory\n",
    "    lambda session_id: memory,\n",
    "    input_messages_key=\"input\",\n",
    "    history_messages_key=\"chat_history\",\n",
    ")"
   ]
  },
  {
   "cell_type": "code",
   "execution_count": 25,
   "metadata": {},
   "outputs": [],
   "source": [
    "def execute_query():\n",
    "    query = query_text.get(\"1.0\", tk.END).strip()\n",
    "    if not query:\n",
    "        messagebox.showwarning(\"Input Error\", \"Please enter a query.\")\n",
    "        return\n",
    "    \n",
    "    try:\n",
    "        result = agent_with_chat_history.invoke(\n",
    "            {\"input\": query, \"tools\": tools, \"tool_names\": tool_names, \"agent_scratchpad\": \"\", \"history\": memory.messages, 'schema': schema},\n",
    "            config={\"configurable\": {\"session_id\": \"<foo>\"}})\n",
    "        output = result.get(\"output\", \"No result found\")\n",
    "        result_text.config(state=tk.NORMAL)\n",
    "        result_text.delete(\"1.0\", tk.END)\n",
    "        result_text.insert(tk.END, output)\n",
    "        result_text.config(state=tk.DISABLED)\n",
    "    except Exception as e:\n",
    "        messagebox.showerror(\"Execution Error\", str(e))"
   ]
  },
  {
   "cell_type": "code",
   "execution_count": 30,
   "metadata": {},
   "outputs": [],
   "source": [
    "# Create the main window\n",
    "root = tk.Tk()\n",
    "root.title(\"SQL Agent GUI\")\n",
    "\n",
    "# Create and place widgets\n",
    "query_label = tk.Label(root, text=\"Enter SQL Query:\")\n",
    "query_label.pack(pady=5)\n",
    "\n",
    "query_text = scrolledtext.ScrolledText(root, width=80, height=10)\n",
    "query_text.pack(pady=5)\n",
    "\n",
    "execute_button = tk.Button(root, text=\"Execute Query\", command=execute_query)\n",
    "execute_button.pack(pady=5)\n",
    "\n",
    "result_label = tk.Label(root, text=\"Query Result:\")\n",
    "result_label.pack(pady=5)\n",
    "\n",
    "result_text = scrolledtext.ScrolledText(root, width=80, height=15, state=tk.DISABLED)\n",
    "result_text.pack(pady=5)\n"
   ]
  },
  {
   "cell_type": "code",
   "execution_count": 31,
   "metadata": {},
   "outputs": [
    {
     "name": "stdout",
     "output_type": "stream",
     "text": [
      "\n",
      "\n",
      "\u001b[1m> Entering new SQL Agent Executor chain...\u001b[0m\n",
      "\u001b[32;1m\u001b[1;3mTo find the gender of the patient in this file, we need to look at the 'Gender' column in the eeg table for the most recently mentioned file.\n",
      "\n",
      "Action: sql_db_query\n",
      "Action Input: SELECT DISTINCT Gender FROM eeg WHERE file_name = '1029.csv'\u001b[0m\u001b[36;1m\u001b[1;3m[('female',)]\u001b[0m\u001b[32;1m\u001b[1;3mI now know the final answer\n",
      "Final Answer: The gender of the patient in this file is female.\u001b[0m\n",
      "\n",
      "\u001b[1m> Finished chain.\u001b[0m\n",
      "\n",
      "\n",
      "\u001b[1m> Entering new SQL Agent Executor chain...\u001b[0m\n",
      "\u001b[32;1m\u001b[1;3mThought: The question is asking for the age of the patient in the most recently mentioned file. Since the most recently mentioned file is not explicitly stated, I need to refer to the previous conversations to determine which file is being referred to.\n",
      "\n",
      "Action: Review previous conversations\n",
      "Action Input: None\u001b[0mReview previous conversations is not a valid tool, try one of [sql_db_query, sql_db_schema, sql_db_list_tables, sql_db_query_checker].\u001b[32;1m\u001b[1;3mThought: Since the most recently mentioned file is 1029.csv, I need to find the age of the patient in this file.\n",
      "\n",
      "Action: sql_db_query\n",
      "Action Input: SELECT Age FROM eeg WHERE file_name = '1029.csv'\u001b[0m\u001b[36;1m\u001b[1;3m[(23.0,), (23.0,), (23.0,), (23.0,), (23.0,), (23.0,), (23.0,), (23.0,), (23.0,), (23.0,), (23.0,), (23.0,), (23.0,), (23.0,)]\u001b[0m\u001b[32;1m\u001b[1;3mThought: I now know the final answer\n",
      "Final Answer: The age of the patient is 23.0 years old.\u001b[0m\n",
      "\n",
      "\u001b[1m> Finished chain.\u001b[0m\n",
      "\n",
      "\n",
      "\u001b[1m> Entering new SQL Agent Executor chain...\u001b[0m\n",
      "\u001b[32;1m\u001b[1;3mTo answer this question, I need to determine which file is being referred to. Based on the previous conversations, the most recently mentioned file is 1029.csv. I need to count the number of events in this file.\n",
      "\n",
      "Action: sql_db_query\n",
      "Action Input: SELECT COUNT(*) FROM eeg WHERE file_name = '1029.csv'\u001b[0m\u001b[36;1m\u001b[1;3m[(14,)]\u001b[0m\u001b[32;1m\u001b[1;3mI now know the final answer\n",
      "Final Answer: There are 14 events in this file.\u001b[0m\n",
      "\n",
      "\u001b[1m> Finished chain.\u001b[0m\n",
      "\n",
      "\n",
      "\u001b[1m> Entering new SQL Agent Executor chain...\u001b[0m\n",
      "\u001b[32;1m\u001b[1;3mTo find an event that occurs in channels FP1 and FP2, I need to query the eeg table for a row where the channel_names column includes both 'FP1' and 'FP2'. Since the most recently mentioned file is not specified, I will assume it is the file mentioned in the previous conversation, which is 1029.csv.\n",
      "\n",
      "Action: sql_db_query\n",
      "Action Input: SELECT Comment FROM eeg WHERE file_name = '1029.csv' AND channel_names LIKE '%FP1%' AND channel_names LIKE '%FP2%' LIMIT 1\n",
      "\n",
      "Please wait for the observation...\u001b[0m\u001b[36;1m\u001b[1;3mError: (sqlite3.OperationalError) near \"Please\": syntax error\n",
      "[SQL: SELECT Comment FROM eeg WHERE file_name = '1029.csv' AND channel_names LIKE '%FP1%' AND channel_names LIKE '%FP2%' LIMIT 1\n",
      "\n",
      "Please wait for the observation...]\n",
      "(Background on this error at: https://sqlalche.me/e/20/e3q8)\u001b[0m\u001b[32;1m\u001b[1;3mIt seems like the error message is not related to the query itself, but rather to the \"Please wait for the observation...\" text that was appended to the query. This text is not a valid SQL syntax, which is causing the error.\n",
      "\n",
      "Action: sql_db_query\n",
      "Action Input: SELECT Comment FROM eeg WHERE file_name = '1029.csv' AND channel_names LIKE '%FP1%' AND channel_names LIKE '%FP2%' LIMIT 1\n",
      "\n",
      "Please wait for the observation...\u001b[0m\u001b[36;1m\u001b[1;3mError: (sqlite3.OperationalError) near \"Please\": syntax error\n",
      "[SQL: SELECT Comment FROM eeg WHERE file_name = '1029.csv' AND channel_names LIKE '%FP1%' AND channel_names LIKE '%FP2%' LIMIT 1\n",
      "\n",
      "Please wait for the observation...]\n",
      "(Background on this error at: https://sqlalche.me/e/20/e3q8)\u001b[0m\u001b[32;1m\u001b[1;3mIt seems like the error message is not related to the query itself, but rather to the \"Please wait for the observation...\" text that was appended to the query. This text is not a valid SQL syntax, which is causing the error.\n",
      "\n",
      "Action: sql_db_query\n",
      "Action Input: SELECT Comment FROM eeg WHERE file_name = '1029.csv' AND channel_names LIKE '%FP1%' AND channel_names LIKE '%FP2%' LIMIT 1\n",
      "\u001b[0m\u001b[36;1m\u001b[1;3m[('spike and wave',)]\u001b[0m\u001b[32;1m\u001b[1;3mI now know the final answer\n",
      "\n",
      "Final Answer: An event that occurs in channels FP1 and FP2 is 'spike and wave'.\u001b[0m\n",
      "\n",
      "\u001b[1m> Finished chain.\u001b[0m\n"
     ]
    }
   ],
   "source": [
    "root.mainloop()"
   ]
  },
  {
   "cell_type": "code",
   "execution_count": 28,
   "metadata": {},
   "outputs": [
    {
     "data": {
      "text/plain": [
       "[HumanMessage(content='what is the average duration of all the events in the file 1004?'),\n",
       " AIMessage(content='The average duration of all the events in the file 1004 is 1.701857142857143 seconds.'),\n",
       " HumanMessage(content='what are the different types of events in this file ?'),\n",
       " AIMessage(content=\"There is only one type of event in this file, which is 'spike and wave'.\"),\n",
       " HumanMessage(content='what is the gender of the patient in this file ?'),\n",
       " AIMessage(content='The gender of the patient in this file is male.'),\n",
       " HumanMessage(content='how many events are there in this file ?'),\n",
       " AIMessage(content='There are 7 events in this file.'),\n",
       " HumanMessage(content='what is the age of the patient ?'),\n",
       " AIMessage(content='The age of the patient is 12.0 years old.'),\n",
       " HumanMessage(content='can you name a file that has the recording of a female patient of age 20 years or more ?'),\n",
       " AIMessage(content='1029.csv is a file that has the recording of a female patient of age 20 years or more.'),\n",
       " HumanMessage(content='from this file, name an event that occurs in channels FP1, FP2, and FP3, and also tell its duration'),\n",
       " AIMessage(content='Agent stopped due to iteration limit or time limit.'),\n",
       " HumanMessage(content='how many events are there in this file ?'),\n",
       " AIMessage(content='There are 7 events in this file.')]"
      ]
     },
     "execution_count": 28,
     "metadata": {},
     "output_type": "execute_result"
    }
   ],
   "source": [
    "memory.messages"
   ]
  }
 ],
 "metadata": {
  "kernelspec": {
   "display_name": "Python 3",
   "language": "python",
   "name": "python3"
  },
  "language_info": {
   "codemirror_mode": {
    "name": "ipython",
    "version": 3
   },
   "file_extension": ".py",
   "mimetype": "text/x-python",
   "name": "python",
   "nbconvert_exporter": "python",
   "pygments_lexer": "ipython3",
   "version": "3.12.4"
  },
  "orig_nbformat": 4,
  "vscode": {
   "interpreter": {
    "hash": "3fcbd7240ee8f908d933dc7f71e8c42a1a91163b70ede8dcff5146d4087436c7"
   }
  }
 },
 "nbformat": 4,
 "nbformat_minor": 2
}
