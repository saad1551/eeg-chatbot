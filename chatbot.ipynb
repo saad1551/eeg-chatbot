{
 "cells": [
  {
   "cell_type": "code",
   "execution_count": 1,
   "metadata": {},
   "outputs": [],
   "source": [
    "import os\n",
    "from langchain_community.utilities import SQLDatabase\n",
    "from sqlalchemy import create_engine\n",
    "from langchain.agents.agent_toolkits import create_sql_agent,SQLDatabaseToolkit\n",
    "import pandas as pd\n",
    "from langchain_fireworks import ChatFireworks\n",
    "from langchain.prompts import PromptTemplate\n",
    "from langchain_core.runnables.history import RunnableWithMessageHistory\n",
    "from langchain.memory import ChatMessageHistory\n",
    "import tkinter as tk\n",
    "from tkinter import scrolledtext, messagebox\n",
    "import config\n",
    "from langsmith import Client\n"
   ]
  },
  {
   "cell_type": "code",
   "execution_count": 2,
   "metadata": {},
   "outputs": [],
   "source": [
    "os.environ[\"AI21_API_KEY\"] = config.AI21_API_KEY\n",
    "os.environ[\"GOOGLE_API_KEY\"] = config.GOOGLE_API_KEY\n",
    "os.environ[\"OPENAI_API_KEY\"] = config.OPENAI_API_KEY\n",
    "os.environ[\"NVIDIA_API_KEY\"] = config.NVIDIA_API_KEY\n",
    "os.environ[\"HUGGINGFACEHUB_API_TOKEN\"] = config.HUGGINGFACEHUB_API_TOKEN\n",
    "os.environ[\"FIREWORKS_API_KEY\"] = config.FIREWORKS_API_KEY\n",
    "os.environ[\"LANGCHAIN_API_KEY\"] = config.LANGCHAIN_API_KEY"
   ]
  },
  {
   "cell_type": "code",
   "execution_count": 3,
   "metadata": {},
   "outputs": [],
   "source": [
    "os.environ[\"LANGCHAIN_TRACING_V2\"]=\"true\"\n",
    "os.environ[\"LANGCHAIN_ENDPOINT\"]=\"https://api.smith.langchain.com\"\n",
    "os.environ[\"LANGCHAIN_API_KEY\"]=config.LANGCHAIN_API_KEY\n",
    "os.environ[\"LANGCHAIN_PROJECT\"]=\"pr-giving-defeat-64\""
   ]
  },
  {
   "cell_type": "code",
   "execution_count": 4,
   "metadata": {},
   "outputs": [],
   "source": [
    "client = Client()"
   ]
  },
  {
   "cell_type": "code",
   "execution_count": 5,
   "metadata": {},
   "outputs": [],
   "source": [
    "csv_files = os.listdir(\"./csv\")"
   ]
  },
  {
   "cell_type": "code",
   "execution_count": 6,
   "metadata": {},
   "outputs": [],
   "source": [
    "dataframe = []\n",
    "\n",
    "for csv_file in csv_files:\n",
    "    df = pd.read_csv(os.path.join(\"./csv\", csv_file))\n",
    "    for index, row in df.iterrows():\n",
    "        if type(row[\"Gender\"]) == str:\n",
    "            gender = row[\"Gender\"].lower()\n",
    "            row[\"Gender\"] = gender\n",
    "        else:\n",
    "            row[\"Gender\"] = gender \n",
    "\n",
    "        if type(row[\"Age\"]) == str:\n",
    "            age = float(row[\"Age\"].split(' ')[0])\n",
    "            row[\"Age\"] = age \n",
    "        else:\n",
    "            row[\"Age\"] = age \n",
    "        \n",
    "        if type(row[\"File Start\"]) == str:\n",
    "            file_start = row[\"File Start\"]\n",
    "            del row[\"File Start\"]\n",
    "            row[\"file_start\"] = file_start\n",
    "        else:\n",
    "            row[\"file_start\"] = file_start\n",
    "            del row['File Start']\n",
    "\n",
    "        row['start_time'] = row['Start time']\n",
    "        del row['Start time']\n",
    "\n",
    "        row['end_time'] = row['End time']\n",
    "        del row['End time']\n",
    "\n",
    "        row['channel_names'] = row['Channel names']\n",
    "        del row['Channel names']\n",
    "\n",
    "        row['file_name'] = csv_file\n",
    "\n",
    "        dataframe.append(row)\n",
    "\n",
    "df = pd.DataFrame(dataframe)"
   ]
  },
  {
   "cell_type": "code",
   "execution_count": 7,
   "metadata": {},
   "outputs": [
    {
     "data": {
      "text/plain": [
       "9893"
      ]
     },
     "execution_count": 7,
     "metadata": {},
     "output_type": "execute_result"
    }
   ],
   "source": [
    "engine = create_engine(\"sqlite:///eeg.db\")\n",
    "df.to_sql(\"eeg\", engine, index=False)"
   ]
  },
  {
   "cell_type": "code",
   "execution_count": 9,
   "metadata": {},
   "outputs": [
    {
     "name": "stdout",
     "output_type": "stream",
     "text": [
      "sqlite\n",
      "['eeg']\n"
     ]
    },
    {
     "data": {
      "text/plain": [
       "\"[('1018.csv',), ('1029.csv',), ('1064.csv',), ('1090.csv',), ('127.csv',), ('243.csv',), ('250.csv',), ('266.csv',), ('289.csv',), ('353.csv',), ('354.csv',), ('472.csv',), ('494.csv',), ('507.csv',), ('510.csv',), ('545.csv',), ('573.csv',), ('577.csv',), ('586.csv',), ('594.csv',), ('598.csv',), ('599.csv',), ('620.csv',), ('621.csv',), ('623.csv',), ('624.csv',), ('627.csv',), ('676.csv',), ('743.csv',), ('764.csv',), ('765.csv',), ('8.csv',), ('828.csv',), ('875.csv',), ('884.csv',), ('908.csv',)]\""
      ]
     },
     "execution_count": 9,
     "metadata": {},
     "output_type": "execute_result"
    }
   ],
   "source": [
    "db = SQLDatabase(engine=engine)\n",
    "print(db.dialect)\n",
    "print(db.get_usable_table_names())\n",
    "db.run(\"SELECT DISTINCT file_name FROM eeg WHERE gender == 'female';\")"
   ]
  },
  {
   "cell_type": "code",
   "execution_count": 10,
   "metadata": {},
   "outputs": [],
   "source": [
    "llm = ChatFireworks(api_key = \"fw_3ZYESBpJiXVuqDjbxK34KxDw\", model=\"accounts/fireworks/models/llama-v3p1-405b-instruct\")"
   ]
  },
  {
   "cell_type": "code",
   "execution_count": 11,
   "metadata": {},
   "outputs": [],
   "source": [
    "default_prompt = \"You are a database agent for writing queries and returning answers. The table is eeg, containing CSV records of EEG recordings from different patients. Each file (identified by file_name) can have multiple entries with consistent gender, age, and file_start values. Events are single entries with a start_time, end_time, comment, and channel_names. If channel_names includes 'FP1', it implies the event was observed in FP1, and similarly for other channels. Ages are floats type. Subjects are characterized by age and gender, not filenames. File names referred to by an integer should be assumed to have a .csv extension. Timestamps in hh:mm:ss:ms format need to be cast to integers for comparisons. Use DISTINCT with file_name to handle files with multiple entries. You should also look for message history to be aware of the context completely.\""
   ]
  },
  {
   "cell_type": "code",
   "execution_count": 12,
   "metadata": {},
   "outputs": [],
   "source": [
    "memory = ChatMessageHistory(session_id=\"test-session\")"
   ]
  },
  {
   "cell_type": "code",
   "execution_count": 13,
   "metadata": {},
   "outputs": [],
   "source": [
    "template = '''You are a database agent for writing queries and returning answers. The table is eeg, containing CSV records of \n",
    "EEG recordings from different patients. Each file (identified by file_name) can have multiple entries with consistent gender, age, \n",
    "and file_start values. Events are single entries with a start_time, end_time, comment, and channel_names. \n",
    "If channel_names includes 'FP1', it implies the event was observed in FP1, and similarly for other channels. Ages are floats type. \n",
    "Subjects are characterized by age and gender, not filenames. File names referred to by an integer should be assumed to have a .csv extension. \n",
    "Timestamps in hh:mm:ss:ms format need to be cast to integers for comparisons. Use DISTINCT with file_name to handle files with multiple entries. \n",
    "You should also look for message history to be aware of the context completely.\"\n",
    "\n",
    "Answer the following questions as best you can. You have access to the following tools:\n",
    "\n",
    "{tools}\n",
    "\n",
    "These are the relevant pieces of the previous conversations, use them if needed.\n",
    "{history}\n",
    "\n",
    "If there are mutltiple files mentioned in the previous conversations and the input refers to a file but doesn't specify which one, you should always \n",
    "assume that it is the most recently mentioned file being talked about\n",
    "\n",
    "Use the following format:\n",
    "\n",
    "Question: the input question you must answer\n",
    "Thought: you should always think about what to do\n",
    "Action: the action to take, should be one of [{tool_names}]\n",
    "Action Input: the input to the action\n",
    "Observation: the result of the action\n",
    "... (this Thought/Action/Action Input/Observation can repeat N times)\n",
    "Thought: I now know the final answer\n",
    "Final Answer: the final answer to the original input question\n",
    "\n",
    "Begin!\n",
    "\n",
    "Question: {input}\n",
    "Thought:{agent_scratchpad}'''\n",
    "\n",
    "prompt = PromptTemplate.from_template(template)"
   ]
  },
  {
   "cell_type": "code",
   "execution_count": 14,
   "metadata": {},
   "outputs": [],
   "source": [
    "toolkit = SQLDatabaseToolkit(llm = llm, db = db)"
   ]
  },
  {
   "cell_type": "code",
   "execution_count": 15,
   "metadata": {},
   "outputs": [],
   "source": [
    "tools = toolkit.get_tools()"
   ]
  },
  {
   "cell_type": "code",
   "execution_count": 16,
   "metadata": {},
   "outputs": [],
   "source": [
    "tool_names = [tool.name for tool in tools]"
   ]
  },
  {
   "cell_type": "code",
   "execution_count": 17,
   "metadata": {},
   "outputs": [],
   "source": [
    "agent_executor = create_sql_agent(llm, db=db, agent_type=\"zero-shot-react-description\", verbose=True, use_history = True, prompt = prompt)"
   ]
  },
  {
   "cell_type": "code",
   "execution_count": 18,
   "metadata": {},
   "outputs": [],
   "source": [
    "agent_with_chat_history = RunnableWithMessageHistory(\n",
    "    agent_executor,\n",
    "    # This is needed because in most real world scenarios, a session id is needed\n",
    "    # It isn't really used here because we are using a simple in memory ChatMessageHistory\n",
    "    lambda session_id: memory,\n",
    "    input_messages_key=\"input\",\n",
    "    history_messages_key=\"chat_history\",\n",
    ")"
   ]
  },
  {
   "cell_type": "code",
   "execution_count": 19,
   "metadata": {},
   "outputs": [],
   "source": [
    "def execute_query():\n",
    "    query = query_text.get(\"1.0\", tk.END).strip()\n",
    "    if not query:\n",
    "        messagebox.showwarning(\"Input Error\", \"Please enter a query.\")\n",
    "        return\n",
    "    \n",
    "    try:\n",
    "        result = agent_with_chat_history.invoke(\n",
    "            {\"input\": query, \"tools\": tools, \"tool_names\": tool_names, \"agent_scratchpad\": \"\", \"history\": memory.messages},\n",
    "            config={\"configurable\": {\"session_id\": \"<foo>\"}})\n",
    "        output = result.get(\"output\", \"No result found\")\n",
    "        result_text.config(state=tk.NORMAL)\n",
    "        result_text.delete(\"1.0\", tk.END)\n",
    "        result_text.insert(tk.END, output)\n",
    "        result_text.config(state=tk.DISABLED)\n",
    "    except Exception as e:\n",
    "        messagebox.showerror(\"Execution Error\", str(e))"
   ]
  },
  {
   "cell_type": "code",
   "execution_count": 20,
   "metadata": {},
   "outputs": [],
   "source": [
    "# Create the main window\n",
    "root = tk.Tk()\n",
    "root.title(\"SQL Agent GUI\")\n",
    "\n",
    "# Create and place widgets\n",
    "query_label = tk.Label(root, text=\"Enter SQL Query:\")\n",
    "query_label.pack(pady=5)\n",
    "\n",
    "query_text = scrolledtext.ScrolledText(root, width=80, height=10)\n",
    "query_text.pack(pady=5)\n",
    "\n",
    "execute_button = tk.Button(root, text=\"Execute Query\", command=execute_query)\n",
    "execute_button.pack(pady=5)\n",
    "\n",
    "result_label = tk.Label(root, text=\"Query Result:\")\n",
    "result_label.pack(pady=5)\n",
    "\n",
    "result_text = scrolledtext.ScrolledText(root, width=80, height=15, state=tk.DISABLED)\n",
    "result_text.pack(pady=5)\n"
   ]
  },
  {
   "cell_type": "code",
   "execution_count": null,
   "metadata": {},
   "outputs": [],
   "source": [
    "root.mainloop()"
   ]
  }
 ],
 "metadata": {
  "kernelspec": {
   "display_name": "Python 3",
   "language": "python",
   "name": "python3"
  },
  "language_info": {
   "codemirror_mode": {
    "name": "ipython",
    "version": 3
   },
   "file_extension": ".py",
   "mimetype": "text/x-python",
   "name": "python",
   "nbconvert_exporter": "python",
   "pygments_lexer": "ipython3",
   "version": "3.12.4"
  },
  "orig_nbformat": 4,
  "vscode": {
   "interpreter": {
    "hash": "3fcbd7240ee8f908d933dc7f71e8c42a1a91163b70ede8dcff5146d4087436c7"
   }
  }
 },
 "nbformat": 4,
 "nbformat_minor": 2
}
